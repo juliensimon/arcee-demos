{
 "cells": [
  {
   "cell_type": "code",
   "execution_count": null,
   "id": "71814cb8-3f03-4d9d-aef8-40f3a55ee66d",
   "metadata": {
    "tags": []
   },
   "outputs": [],
   "source": [
    "%%sh\n",
    "pip install -qU pip sagemaker"
   ]
  },
  {
   "cell_type": "code",
   "execution_count": 17,
   "id": "eeaf9193-3566-4132-b82d-92a4691bb0f9",
   "metadata": {
    "tags": []
   },
   "outputs": [],
   "source": [
    "import json\n",
    "import pprint\n",
    "import sagemaker\n",
    "import boto3\n",
    "from sagemaker.huggingface import HuggingFaceModel, get_huggingface_llm_image_uri\n",
    "from IPython.display import display, Markdown, Image"
   ]
  },
  {
   "cell_type": "code",
   "execution_count": 2,
   "id": "e53d6f54-f6fa-4901-925f-f06ac5208f05",
   "metadata": {
    "tags": []
   },
   "outputs": [],
   "source": [
    "role = sagemaker.get_execution_role()"
   ]
  },
  {
   "cell_type": "markdown",
   "id": "60c5fe6d-c629-42ed-8a56-58b78025d99b",
   "metadata": {},
   "source": [
    "# Model Deployment"
   ]
  },
  {
   "cell_type": "code",
   "execution_count": 3,
   "id": "7e741167-47b7-4df9-968f-7fc5ec41b20e",
   "metadata": {
    "tags": []
   },
   "outputs": [],
   "source": [
    "model_id = \"arcee-ai/Arcee-Spark\"\n",
    "\n",
    "hub = {\n",
    "    \"HF_MODEL_ID\": model_id,\n",
    "    'SM_NUM_GPUS': '1',\n",
    "    # MAX_INPUT_TOKENS is limited by GPU RAM\n",
    "    'MAX_INPUT_TOKENS': '8192',\n",
    "    'MAX_TOTAL_TOKENS': '10240',\n",
    "    'MESSAGES_API_ENABLED': 'true'\n",
    "}"
   ]
  },
  {
   "cell_type": "code",
   "execution_count": 4,
   "id": "f5af9b2d-7890-40b7-9177-45bd10b13145",
   "metadata": {
    "tags": []
   },
   "outputs": [
    {
     "name": "stdout",
     "output_type": "stream",
     "text": [
      "-------------!"
     ]
    }
   ],
   "source": [
    "huggingface_model = HuggingFaceModel(\n",
    "    image_uri=get_huggingface_llm_image_uri(\"huggingface\", version=\"2.2.0\"),\n",
    "    env=hub,\n",
    "    role=role\n",
    ")\n",
    "\n",
    "predictor = huggingface_model.deploy(\n",
    "    initial_instance_count=1,\n",
    "    instance_type=\"ml.g5.2xlarge\",\n",
    "    container_startup_health_check_timeout=300,\n",
    "  )"
   ]
  },
  {
   "cell_type": "markdown",
   "id": "90d52a63-a760-49d3-b0c5-f541a345d09f",
   "metadata": {
    "tags": []
   },
   "source": [
    "# Model Inference"
   ]
  },
  {
   "cell_type": "code",
   "execution_count": 30,
   "id": "7fee926f-728f-489b-86f1-ce83a9f7d402",
   "metadata": {
    "tags": []
   },
   "outputs": [],
   "source": [
    "body = {\n",
    "    \"model\": \"tgi\",\n",
    "    \"messages\": [\n",
    "        {\"role\": \"system\", \"content\": \"As a friendly technical assistant engineer, answer the question in detail.\"},\n",
    "        {\"role\": \"user\", \"content\": \"Why are transformers better models than LSTM?\"}\n",
    "    ],\n",
    "    \"max_tokens\": 1024,\n",
    "}"
   ]
  },
  {
   "cell_type": "code",
   "execution_count": 32,
   "id": "79bce5a1-4d4a-4167-872a-df53c5cec38d",
   "metadata": {
    "tags": []
   },
   "outputs": [],
   "source": [
    "# Default settings\n",
    "# Only added to jump back and forth between batch and streaming\n",
    "from sagemaker.base_deserializers import JSONDeserializer\n",
    "\n",
    "predictor.deserializer = JSONDeserializer()\n",
    "\n",
    "response = predictor.predict(body)"
   ]
  },
  {
   "cell_type": "code",
   "execution_count": 33,
   "id": "2237fd87-a90b-4f18-ba45-7b7c5752e2cd",
   "metadata": {},
   "outputs": [
    {
     "name": "stdout",
     "output_type": "stream",
     "text": [
      "{'choices': [{'finish_reason': 'eos_token',\n",
      "              'index': 0,\n",
      "              'logprobs': None,\n",
      "              'message': {'content': 'When comparing transformers to LSTM '\n",
      "                                     \"(Long Short-Term Memory) models, it's \"\n",
      "                                     'important to note that the choice '\n",
      "                                     'between the two depends significantly on '\n",
      "                                     'the specific application and the '\n",
      "                                     'characteristics of the data involved. '\n",
      "                                     'However, transformers, particularly due '\n",
      "                                     'to their unique architecture, have '\n",
      "                                     'become more popular and often outperform '\n",
      "                                     'LSTMs in several tasks, primarily '\n",
      "                                     'because of their ability to handle '\n",
      "                                     'longer sequences and their efficiency in '\n",
      "                                     'processing parallelizable tasks. Here '\n",
      "                                     'are some key reasons why transformers '\n",
      "                                     'might be considered better for certain '\n",
      "                                     'scenarios:\\n'\n",
      "                                     '\\n'\n",
      "                                     '1. **Handling Long Dependency '\n",
      "                                     'Contexts**: Traditional RNNs (like '\n",
      "                                     'LSTMs) grapple with the vanishing '\n",
      "                                     'gradient problem when attempting to '\n",
      "                                     'learn dependencies across long '\n",
      "                                     'sequences. This is partly why they need '\n",
      "                                     'to be deeper (with more hidden layers) '\n",
      "                                     'to handle such dependencies, which can '\n",
      "                                     'lead to increased training times and '\n",
      "                                     'higher computational costs. '\n",
      "                                     'Transformers, on the other hand, employ '\n",
      "                                     'self-attention mechanisms that enable '\n",
      "                                     'them to weigh the importance of features '\n",
      "                                     'or tokens at any position in the input '\n",
      "                                     'against all other positions, regardless '\n",
      "                                     'of the distance between them. This '\n",
      "                                     'mechanism allows them to consider '\n",
      "                                     'dependencies across the entire sequence '\n",
      "                                     'more effectively without the need for '\n",
      "                                     'multiple layers, making them powerful in '\n",
      "                                     'handling long-range dependencies.\\n'\n",
      "                                     '\\n'\n",
      "                                     '2. **Parallel Processing**: The '\n",
      "                                     'self-attention mechanism in a '\n",
      "                                     'transformer allows it to calculate the '\n",
      "                                     'similarity between sequence elements in '\n",
      "                                     'parallel, greatly expediting the process '\n",
      "                                     'of processing large volumes of data. In '\n",
      "                                     'contrast, LSTMs must compute their state '\n",
      "                                     'transitions sequentially, which can be '\n",
      "                                     'relatively slow when dealing with '\n",
      "                                     'high-dimensional data or long sequences. '\n",
      "                                     'This scalability stands in stark '\n",
      "                                     'contrast to the sequential nature of '\n",
      "                                     'LSTMs, where the output at each step '\n",
      "                                     'depends on the hidden state computed '\n",
      "                                     'from the previous step.\\n'\n",
      "                                     '\\n'\n",
      "                                     '3. **Memory Efficiency**: Although LSTMs '\n",
      "                                     'are designed to mitigate the vanishing '\n",
      "                                     'gradient problem, they require large '\n",
      "                                     'hidden state sequences, leading to high '\n",
      "                                     'memory requirements, especially when the '\n",
      "                                     'sequence length is large. Transformers, '\n",
      "                                     'by leveraging self-attention and its '\n",
      "                                     'parallelizable computation of context '\n",
      "                                     'weights, can potentially reduce the '\n",
      "                                     'amount of memory needed per sequence '\n",
      "                                     'element because they maintain their '\n",
      "                                     'attention weights across the entire '\n",
      "                                     'sequence, not individual hidden states.\\n'\n",
      "                                     '\\n'\n",
      "                                     '4. **Generalization**: Empirical '\n",
      "                                     'evidence suggests that transformers '\n",
      "                                     'often generalize better than LSTMs over '\n",
      "                                     'long sequences. Their ability to quickly '\n",
      "                                     'access and utilize information from any '\n",
      "                                     'part of the sequence helps in capturing '\n",
      "                                     'complex patterns and can lead to better '\n",
      "                                     'performances on tasks that require '\n",
      "                                     'understanding of the complete context.\\n'\n",
      "                                     '\\n'\n",
      "                                     '5. **Flexibility and Design**: '\n",
      "                                     'Transformers offer a more flexible '\n",
      "                                     'architecture for embedding, attention '\n",
      "                                     'mechanisms, and their overall design. '\n",
      "                                     'This flexibility allows the architecture '\n",
      "                                     'to be more easily adapted to different '\n",
      "                                     'dimensionality requirements and to '\n",
      "                                     'decrease the risk of overfitting by '\n",
      "                                     'adjusting various components, which is '\n",
      "                                     'not as straightforward in LSTMs.\\n'\n",
      "                                     '\\n'\n",
      "                                     \"It's crucial to understand, however, \"\n",
      "                                     'that performance comparisons can also '\n",
      "                                     'depend on task specifics, quality and '\n",
      "                                     'size of the dataset, and computational '\n",
      "                                     'resources. For certain tasks where '\n",
      "                                     'sequential dependencies are critical, '\n",
      "                                     'LSTM might perform better than a '\n",
      "                                     'transformer due to their design to '\n",
      "                                     'handle the complexities of sequence '\n",
      "                                     'modeling more naturally, despite the '\n",
      "                                     'potential drawbacks in computational '\n",
      "                                     'efficiency for very long sequences.',\n",
      "                          'role': 'assistant'}}],\n",
      " 'created': 1722933653,\n",
      " 'id': '',\n",
      " 'model': 'arcee-ai/Arcee-Spark',\n",
      " 'object': 'chat.completion',\n",
      " 'system_fingerprint': '2.2.0-native',\n",
      " 'usage': {'completion_tokens': 612, 'prompt_tokens': 34, 'total_tokens': 646}}\n"
     ]
    }
   ],
   "source": [
    "pprint.pprint(response)"
   ]
  },
  {
   "cell_type": "code",
   "execution_count": 34,
   "id": "89e37d6d-c4ba-4f34-bca2-4b33571b92f1",
   "metadata": {},
   "outputs": [
    {
     "data": {
      "text/markdown": [
       "When comparing transformers to LSTM (Long Short-Term Memory) models, it's important to note that the choice between the two depends significantly on the specific application and the characteristics of the data involved. However, transformers, particularly due to their unique architecture, have become more popular and often outperform LSTMs in several tasks, primarily because of their ability to handle longer sequences and their efficiency in processing parallelizable tasks. Here are some key reasons why transformers might be considered better for certain scenarios:\n",
       "\n",
       "1. **Handling Long Dependency Contexts**: Traditional RNNs (like LSTMs) grapple with the vanishing gradient problem when attempting to learn dependencies across long sequences. This is partly why they need to be deeper (with more hidden layers) to handle such dependencies, which can lead to increased training times and higher computational costs. Transformers, on the other hand, employ self-attention mechanisms that enable them to weigh the importance of features or tokens at any position in the input against all other positions, regardless of the distance between them. This mechanism allows them to consider dependencies across the entire sequence more effectively without the need for multiple layers, making them powerful in handling long-range dependencies.\n",
       "\n",
       "2. **Parallel Processing**: The self-attention mechanism in a transformer allows it to calculate the similarity between sequence elements in parallel, greatly expediting the process of processing large volumes of data. In contrast, LSTMs must compute their state transitions sequentially, which can be relatively slow when dealing with high-dimensional data or long sequences. This scalability stands in stark contrast to the sequential nature of LSTMs, where the output at each step depends on the hidden state computed from the previous step.\n",
       "\n",
       "3. **Memory Efficiency**: Although LSTMs are designed to mitigate the vanishing gradient problem, they require large hidden state sequences, leading to high memory requirements, especially when the sequence length is large. Transformers, by leveraging self-attention and its parallelizable computation of context weights, can potentially reduce the amount of memory needed per sequence element because they maintain their attention weights across the entire sequence, not individual hidden states.\n",
       "\n",
       "4. **Generalization**: Empirical evidence suggests that transformers often generalize better than LSTMs over long sequences. Their ability to quickly access and utilize information from any part of the sequence helps in capturing complex patterns and can lead to better performances on tasks that require understanding of the complete context.\n",
       "\n",
       "5. **Flexibility and Design**: Transformers offer a more flexible architecture for embedding, attention mechanisms, and their overall design. This flexibility allows the architecture to be more easily adapted to different dimensionality requirements and to decrease the risk of overfitting by adjusting various components, which is not as straightforward in LSTMs.\n",
       "\n",
       "It's crucial to understand, however, that performance comparisons can also depend on task specifics, quality and size of the dataset, and computational resources. For certain tasks where sequential dependencies are critical, LSTM might perform better than a transformer due to their design to handle the complexities of sequence modeling more naturally, despite the potential drawbacks in computational efficiency for very long sequences."
      ],
      "text/plain": [
       "<IPython.core.display.Markdown object>"
      ]
     },
     "metadata": {},
     "output_type": "display_data"
    }
   ],
   "source": [
    "display(Markdown(response[\"choices\"][0][\"message\"][\"content\"]))"
   ]
  },
  {
   "cell_type": "markdown",
   "id": "27890cd8-4cc4-4111-8489-b3550600eb88",
   "metadata": {},
   "source": [
    "# Model Inference with Streaming Response"
   ]
  },
  {
   "cell_type": "code",
   "execution_count": 35,
   "id": "797d5663-6aa3-4c32-a8ad-0b1dcfe6c4eb",
   "metadata": {
    "tags": []
   },
   "outputs": [],
   "source": [
    "import io\n",
    "\n",
    "# source: https://aws.amazon.com/blogs/machine-learning/elevating-the-generative-ai-experience-introducing-streaming-support-in-amazon-sagemaker-hosting/\n",
    "# https://github.com/aws-samples/sagemaker-hosting/tree/main/GenAI-Hosting/Large-Language-Model-Hosting/LLM-Streaming/llama-2-hf-tgi\n",
    "\n",
    "\n",
    "class LineIterator:\n",
    "    \"\"\"\n",
    "    A helper class for parsing the byte stream input.\n",
    "\n",
    "    The output of the model will be in the following format:\n",
    "    ```\n",
    "    b'{\"outputs\": [\" a\"]}\\n'\n",
    "    b'{\"outputs\": [\" challenging\"]}\\n'\n",
    "    b'{\"outputs\": [\" problem\"]}\\n'\n",
    "    ...\n",
    "    ```\n",
    "\n",
    "    While usually each PayloadPart event from the event stream will contain a byte array\n",
    "    with a full json, this is not guaranteed and some of the json objects may be split across\n",
    "    PayloadPart events. For example:\n",
    "    ```\n",
    "    {'PayloadPart': {'Bytes': b'{\"outputs\": '}}\n",
    "    {'PayloadPart': {'Bytes': b'[\" problem\"]}\\n'}}\n",
    "    ```\n",
    "\n",
    "    This class accounts for this by concatenating bytes written via the 'write' function\n",
    "    and then exposing a method which will return lines (ending with a '\\n' character) within\n",
    "    the buffer via the 'scan_lines' function. It maintains the position of the last read\n",
    "    position to ensure that previous bytes are not exposed again.\n",
    "    \"\"\"\n",
    "\n",
    "    def __init__(self, stream):\n",
    "        self.byte_iterator = iter(stream)\n",
    "        self.buffer = io.BytesIO()\n",
    "        self.read_pos = 0\n",
    "\n",
    "    def __iter__(self):\n",
    "        return self\n",
    "\n",
    "    def __next__(self):\n",
    "        while True:\n",
    "            self.buffer.seek(self.read_pos)\n",
    "            line = self.buffer.readline()\n",
    "            if line and line[-1] == ord('\\n'):\n",
    "                self.read_pos += len(line)\n",
    "                return line[:-1]\n",
    "            try:\n",
    "                chunk = next(self.byte_iterator)\n",
    "            except StopIteration:\n",
    "                if self.read_pos < self.buffer.getbuffer().nbytes:\n",
    "                    continue\n",
    "                raise\n",
    "            if 'PayloadPart' not in chunk:\n",
    "                print('Unknown event type:' + chunk)\n",
    "                continue\n",
    "            self.buffer.seek(0, io.SEEK_END)\n",
    "            self.buffer.write(chunk['PayloadPart']['Bytes'])"
   ]
  },
  {
   "cell_type": "code",
   "execution_count": 36,
   "id": "45c5314e-bc7e-4ab2-adb9-7aa7e89e2ecc",
   "metadata": {
    "tags": []
   },
   "outputs": [],
   "source": [
    "# https://aws.amazon.com/blogs/machine-learning/elevating-the-generative-ai-experience-introducing-streaming-support-in-amazon-sagemaker-hosting/\n",
    "# Modified to support the OpenAI messages format and display the total number of tokens\n",
    "\n",
    "def print_event_stream(event_stream):\n",
    "    start_json = b'{'\n",
    "    stop_token = '</s>'\n",
    "\n",
    "    for line in LineIterator(event_stream):\n",
    "        if line != b'' and start_json in line:\n",
    "            data = json.loads(line[line.find(start_json):].decode('utf-8'))\n",
    "            #print(data)\n",
    "            data = data['choices'][0]\n",
    "            if \"content\" in data['delta']:\n",
    "                content = data['delta']['content']\n",
    "                if content != stop_token:\n",
    "                    print(content, end='')\n",
    "                else:\n",
    "                    print(f\"\\n\\nNumber of tokens: {data['index']}\")"
   ]
  },
  {
   "cell_type": "code",
   "execution_count": 37,
   "id": "a4bbd738-56c0-4566-a7d8-f2910d9ff0f7",
   "metadata": {
    "tags": []
   },
   "outputs": [],
   "source": [
    "body = {\n",
    "    \"model\": \"tgi\",\n",
    "    \"messages\": [\n",
    "        {\"role\": \"system\", \"content\": \"As a friendly technical assistant engineer, answer the question in detail.\"},\n",
    "        {\"role\": \"user\", \"content\": \"Why are transformers better models than LSTM?\"}\n",
    "    ],\n",
    "    \"stream\": True,\n",
    "    \"max_tokens\": 1024,\n",
    "}"
   ]
  },
  {
   "cell_type": "code",
   "execution_count": 38,
   "id": "4beab01b-3f4f-4a27-9eaf-0647361cf33a",
   "metadata": {
    "tags": []
   },
   "outputs": [
    {
     "name": "stdout",
     "output_type": "stream",
     "text": [
      "The comparison between transformer models and LSTM (Long Short-Term Memory) networks isn't about superiority in a broad sense, but rather about their suitability for different types of tasks and the nature of the data they process most efficiently. Both architectures address challenges in sequence processing but in distinct ways, leveraging different strengths:\n",
      "\n",
      "### 1. **Sequence Modeling Flexibility**\n",
      "\n",
      "- **Transformer Models:** Transformers introduced a new paradigm in sequence modeling with self-attention mechanisms. This architecture can attend to different positions in the sequence simultaneously, making it highly adaptable for tasks that require understanding the context across the entire input, not just sequentially or within a few consecutive steps. This is particularly beneficial in scenarios with long-range dependencies, like language understanding and translation.\n",
      "\n",
      "- **LSTMs:** While LSTMs also handle sequence data, they do so through sequential processing controlled by a set of gates (input, forget, and output gates). This mechanism allows LSTMs to selectively remember or forget information over long sequences, effectively dealing with the vanishing gradient problem, which is typical in RNNs (Recurrent Neural Networks) using backpropagation through time (BPTT). However, their sequential nature and limited ability to attend non-consecutive past elements can make them less effective for tasks requiring understanding of distant dependencies.\n",
      "\n",
      "### 2. **Computational Efficiency**\n",
      "\n",
      "- **Transformer Models:** Computational efficiency in transformers, especially in parallelizable parts, has significantly improved their scalability. Self-attention operations allow for efficient scaling with sequence length and vector dimensions, making transformers suitable for large-scale sequence processing tasks like in natural language understanding, data-to-text generation, and even multimodal data processing, where dynamic and contextual features across different modalities are combined.\n",
      "\n",
      "- **LSTMs:** LSTMs, due to their sequential architecture and the need for each step to depend on the previous step, can be computationally intensive and less efficient when dealing with long sequences, leading to significant run times and computational costs if parallel processing isn’t exploited.\n",
      "\n",
      "### 3. **Handling of Long-Range Dependencies**\n",
      "\n",
      "- **Transformer Models:** Transformers excel at capturing long-range dependencies due to their ability to perform parallelized attention across the entire sequence and incorporate positions as part of the input to the self-attention mechanism. This approach allows transformers to weigh the importance of past, present, and future elements uniformly, providing a more holistic view of contextual information.\n",
      "\n",
      "- **LSTMs:** While LSTMs also manage long-range dependencies through their gate mechanisms, the effectiveness of these mechanisms can diminish with very long sequences because they rely on the correct progression of each cell through a sequential set of operations.\n",
      "\n",
      "### 4. **Integration with Multi-Modal Data**\n",
      "\n",
      "- **Transformer Models:** Transformers are designed with a multi-head attention mechanism, which naturally extends to handling multimodal data by allowing each head to focus on different aspects of the input from different modalities, such as visual, auditory, and textual information.\n",
      "\n",
      "- **LSTMs:** Recurrent neural networks, and by extension, LSTMs, are inherently extended to deal with modalities through sequential processing. However, they typically require a pipeline of processing blocks, one for each modality, or specific feature extraction methods to combine modalities, which can be less efficient than the parallel processing in transformers.\n",
      "\n",
      "In summary, while both architectures have their strengths, transformers are better suited for tasks requiring complex long-range dependencies and multimodal inputs, leveraging their ability to compute attention globally without losing efficiency in parallel processing. LSTMs, on the other hand, are well-suited for tasks with essentially sequential components and long-term dependency challenges."
     ]
    }
   ],
   "source": [
    "smr = boto3.client(\"sagemaker-runtime\")\n",
    "response = smr.invoke_endpoint_with_response_stream(EndpointName=predictor.endpoint_name, Body=json.dumps(body), ContentType='application/json')\n",
    "print_event_stream(response['Body'])"
   ]
  },
  {
   "cell_type": "markdown",
   "id": "23b77ee1-213c-4fab-9536-cf4c5302f49e",
   "metadata": {},
   "source": [
    "# Model Inference with Streaming Response and additional context"
   ]
  },
  {
   "cell_type": "code",
   "execution_count": 39,
   "id": "42900106-c9db-4a88-8ae3-b2fff31f9a7a",
   "metadata": {},
   "outputs": [
    {
     "data": {
      "image/png": "[encoded data removed]",
      "text/plain": [
       "<IPython.core.display.Image object>"
      ]
     },
     "execution_count": 39,
     "metadata": {},
     "output_type": "execute_result"
    }
   ],
   "source": [
    "Image(\"chatgpt.png\")"
   ]
  },
  {
   "cell_type": "code",
   "execution_count": 40,
   "id": "a715d4d1-9818-446d-9ba5-816454120e9d",
   "metadata": {},
   "outputs": [
    {
     "name": "stdout",
     "output_type": "stream",
     "text": [
      "Cybertron is a concept originating from a fictional universe in the Transformers series from Hasbro. It does not have any established connection to the field of deep learning, which is a subset of machine learning and a key component of artificial intelligence. Deep learning involves algorithms inspired by human brain functions called artificial neural networks, capable of learning complex patterns in raw data without being explicitly programmed.\n",
      "\n",
      "The use of the term \"Cybertron\" as a metaphorical reference to deep learning is not standard and could potentially arise from someone trying to connect overarching themes of transformations and evolution between the Transformers universe and the development of AI technology.\n",
      "\n",
      "However, this connection isn't factual or scientifically recognized. The journey of deep learning started in the 1940s to the present has its own history, theory, and evolution, distinct from any fictional narratives. Notable milestones include the perceptron model proposed by Frank Rosenblatt in the 1950s, the development of backpropagation in the 1980s, and the resurgence of interest starting in 2010 due to advances in computing power and the availability of big data, leading us to modern AI systems capable of sophisticated tasks like image recognition, natural language processing, and predictive analytics, among others.\n",
      "\n",
      "In conclusion, while \"Cybertron\" might symbolically represent a realm of innovation, technology, and evolution, it isn't the \"ancestor\" of deep learning. Deep learning, with its roots firmly planted in the empirical world of mathematics, computer science, and engineering, follows a distinct lineage."
     ]
    }
   ],
   "source": [
    "body[\"messages\"] = [\n",
    "        {\"role\": \"system\", \"content\": \"As a friendly technical assistant engineer, answer the question in detail.\"},\n",
    "        {\"role\": \"user\", \"content\": \"Is cybertron the ancestor of deep learning?\"}\n",
    "]\n",
    "\n",
    "response = smr.invoke_endpoint_with_response_stream(EndpointName=predictor.endpoint_name, Body=json.dumps(body), ContentType='application/json')\n",
    "print_event_stream(response['Body'])"
   ]
  },
  {
   "cell_type": "code",
   "execution_count": 41,
   "id": "fb121d05-de9c-47dc-a0f6-8abc675633f5",
   "metadata": {},
   "outputs": [],
   "source": [
    "with open(\"machine-learning-wikipedia.txt\", \"r\") as file:\n",
    "    context = file.read()"
   ]
  },
  {
   "cell_type": "code",
   "execution_count": 42,
   "id": "f0b5bce8-9295-4784-adf8-438ecea8680b",
   "metadata": {},
   "outputs": [
    {
     "name": "stdout",
     "output_type": "stream",
     "text": [
      "Cybertron itself is not the ancestor of deep learning. The term \"Cybertron\" here refers to a machine learning \"learning machine\" developed by Raytheon Company in the early 1960s. Cybertron was used to analyze sonar signals, electrocardiograms, and speech patterns using rudimentary reinforcement learning. Although important in its time for demonstrating machine learning concepts through practical application, it was a rudimentary system compared to the complex neural networks and deep learning architectures of today.\n",
      "\n",
      "Deep learning, as a subset of machine learning, relies on artificial neural networks to model and solve complex problems, particularly those involving visual, auditory, and textual data. It primarily focuses on learning hierarchical layers of representation that enable sophisticated functions. These deep learning architectures, like Convolutional Neural Networks (CNNs) for image recognition or Recurrent Neural Networks (RNNs) for sequential data, enable advanced pattern recognition and prediction capabilities.\n",
      "\n",
      "Cybertron's approach provided training through human intervention (\"trained by a human operator/teacher\") and allowed for the refinement of decision-making through a \"goof\" button, which could cause the machine to reconsider its incorrect decisions. This early system could be seen as a precursor in the evolution towards more automated learning systems.\n",
      "\n",
      "The advancements in deep learning, however, owe more to the evolution of neural network architectures, the availability of vast computational resources, the accumulation of large data sets, and the development of algorithms that can effectively train deep neural networks. Deep learning originated from principles established by works from researchers like Hebb, who contributed to the theoretical underpinnings of neural network models, and pioneers like Arthur Samuel, who coined machine learning terminology, laying critical foundations and inspiring generations of researchers to advance learning algorithms. However, it was not Cybertron, but rather the lineage of these developments, that led to the inception and subsequent progress of deep learning."
     ]
    }
   ],
   "source": [
    "body[\"messages\"] = [\n",
    "    {\"role\": \"system\", \"content\": \"As a friendly technical assistant engineer, use the provided context to answer the question in detail.\"},\n",
    "    {\"role\": \"user\", \"content\": f\"Is cybertron the ancestor of deep learning? Context: {context}\"}\n",
    "]\n",
    "\n",
    "response = smr.invoke_endpoint_with_response_stream(EndpointName=predictor.endpoint_name, Body=json.dumps(body), ContentType='application/json')\n",
    "print_event_stream(response['Body'])"
   ]
  },
  {
   "cell_type": "code",
   "execution_count": 43,
   "id": "40c6bcf5-d9b5-4938-9f58-d023177b3a74",
   "metadata": {
    "tags": []
   },
   "outputs": [],
   "source": [
    "predictor.delete_model()\n",
    "predictor.delete_endpoint()"
   ]
  },
  {
   "cell_type": "code",
   "execution_count": null,
   "id": "cea0b1f7-6b7b-4ca9-8bae-1f825bab9ef4",
   "metadata": {},
   "outputs": [],
   "source": []
  }
 ],
 "metadata": {
  "availableInstances": [
   {
    "_defaultOrder": 0,
    "_isFastLaunch": true,
    "category": "General purpose",
    "gpuNum": 0,
    "hideHardwareSpecs": false,
    "memoryGiB": 4,
    "name": "ml.t3.medium",
    "vcpuNum": 2
   },
   {
    "_defaultOrder": 1,
    "_isFastLaunch": false,
    "category": "General purpose",
    "gpuNum": 0,
    "hideHardwareSpecs": false,
    "memoryGiB": 8,
    "name": "ml.t3.large",
    "vcpuNum": 2
   },
   {
    "_defaultOrder": 2,
    "_isFastLaunch": false,
    "category": "General purpose",
    "gpuNum": 0,
    "hideHardwareSpecs": false,
    "memoryGiB": 16,
    "name": "ml.t3.xlarge",
    "vcpuNum": 4
   },
   {
    "_defaultOrder": 3,
    "_isFastLaunch": false,
    "category": "General purpose",
    "gpuNum": 0,
    "hideHardwareSpecs": false,
    "memoryGiB": 32,
    "name": "ml.t3.2xlarge",
    "vcpuNum": 8
   },
   {
    "_defaultOrder": 4,
    "_isFastLaunch": true,
    "category": "General purpose",
    "gpuNum": 0,
    "hideHardwareSpecs": false,
    "memoryGiB": 8,
    "name": "ml.m5.large",
    "vcpuNum": 2
   },
   {
    "_defaultOrder": 5,
    "_isFastLaunch": false,
    "category": "General purpose",
    "gpuNum": 0,
    "hideHardwareSpecs": false,
    "memoryGiB": 16,
    "name": "ml.m5.xlarge",
    "vcpuNum": 4
   },
   {
    "_defaultOrder": 6,
    "_isFastLaunch": false,
    "category": "General purpose",
    "gpuNum": 0,
    "hideHardwareSpecs": false,
    "memoryGiB": 32,
    "name": "ml.m5.2xlarge",
    "vcpuNum": 8
   },
   {
    "_defaultOrder": 7,
    "_isFastLaunch": false,
    "category": "General purpose",
    "gpuNum": 0,
    "hideHardwareSpecs": false,
    "memoryGiB": 64,
    "name": "ml.m5.4xlarge",
    "vcpuNum": 16
   },
   {
    "_defaultOrder": 8,
    "_isFastLaunch": false,
    "category": "General purpose",
    "gpuNum": 0,
    "hideHardwareSpecs": false,
    "memoryGiB": 128,
    "name": "ml.m5.8xlarge",
    "vcpuNum": 32
   },
   {
    "_defaultOrder": 9,
    "_isFastLaunch": false,
    "category": "General purpose",
    "gpuNum": 0,
    "hideHardwareSpecs": false,
    "memoryGiB": 192,
    "name": "ml.m5.12xlarge",
    "vcpuNum": 48
   },
   {
    "_defaultOrder": 10,
    "_isFastLaunch": false,
    "category": "General purpose",
    "gpuNum": 0,
    "hideHardwareSpecs": false,
    "memoryGiB": 256,
    "name": "ml.m5.16xlarge",
    "vcpuNum": 64
   },
   {
    "_defaultOrder": 11,
    "_isFastLaunch": false,
    "category": "General purpose",
    "gpuNum": 0,
    "hideHardwareSpecs": false,
    "memoryGiB": 384,
    "name": "ml.m5.24xlarge",
    "vcpuNum": 96
   },
   {
    "_defaultOrder": 12,
    "_isFastLaunch": false,
    "category": "General purpose",
    "gpuNum": 0,
    "hideHardwareSpecs": false,
    "memoryGiB": 8,
    "name": "ml.m5d.large",
    "vcpuNum": 2
   },
   {
    "_defaultOrder": 13,
    "_isFastLaunch": false,
    "category": "General purpose",
    "gpuNum": 0,
    "hideHardwareSpecs": false,
    "memoryGiB": 16,
    "name": "ml.m5d.xlarge",
    "vcpuNum": 4
   },
   {
    "_defaultOrder": 14,
    "_isFastLaunch": false,
    "category": "General purpose",
    "gpuNum": 0,
    "hideHardwareSpecs": false,
    "memoryGiB": 32,
    "name": "ml.m5d.2xlarge",
    "vcpuNum": 8
   },
   {
    "_defaultOrder": 15,
    "_isFastLaunch": false,
    "category": "General purpose",
    "gpuNum": 0,
    "hideHardwareSpecs": false,
    "memoryGiB": 64,
    "name": "ml.m5d.4xlarge",
    "vcpuNum": 16
   },
   {
    "_defaultOrder": 16,
    "_isFastLaunch": false,
    "category": "General purpose",
    "gpuNum": 0,
    "hideHardwareSpecs": false,
    "memoryGiB": 128,
    "name": "ml.m5d.8xlarge",
    "vcpuNum": 32
   },
   {
    "_defaultOrder": 17,
    "_isFastLaunch": false,
    "category": "General purpose",
    "gpuNum": 0,
    "hideHardwareSpecs": false,
    "memoryGiB": 192,
    "name": "ml.m5d.12xlarge",
    "vcpuNum": 48
   },
   {
    "_defaultOrder": 18,
    "_isFastLaunch": false,
    "category": "General purpose",
    "gpuNum": 0,
    "hideHardwareSpecs": false,
    "memoryGiB": 256,
    "name": "ml.m5d.16xlarge",
    "vcpuNum": 64
   },
   {
    "_defaultOrder": 19,
    "_isFastLaunch": false,
    "category": "General purpose",
    "gpuNum": 0,
    "hideHardwareSpecs": false,
    "memoryGiB": 384,
    "name": "ml.m5d.24xlarge",
    "vcpuNum": 96
   },
   {
    "_defaultOrder": 20,
    "_isFastLaunch": false,
    "category": "General purpose",
    "gpuNum": 0,
    "hideHardwareSpecs": true,
    "memoryGiB": 0,
    "name": "ml.geospatial.interactive",
    "supportedImageNames": [
     "sagemaker-geospatial-v1-0"
    ],
    "vcpuNum": 0
   },
   {
    "_defaultOrder": 21,
    "_isFastLaunch": true,
    "category": "Compute optimized",
    "gpuNum": 0,
    "hideHardwareSpecs": false,
    "memoryGiB": 4,
    "name": "ml.c5.large",
    "vcpuNum": 2
   },
   {
    "_defaultOrder": 22,
    "_isFastLaunch": false,
    "category": "Compute optimized",
    "gpuNum": 0,
    "hideHardwareSpecs": false,
    "memoryGiB": 8,
    "name": "ml.c5.xlarge",
    "vcpuNum": 4
   },
   {
    "_defaultOrder": 23,
    "_isFastLaunch": false,
    "category": "Compute optimized",
    "gpuNum": 0,
    "hideHardwareSpecs": false,
    "memoryGiB": 16,
    "name": "ml.c5.2xlarge",
    "vcpuNum": 8
   },
   {
    "_defaultOrder": 24,
    "_isFastLaunch": false,
    "category": "Compute optimized",
    "gpuNum": 0,
    "hideHardwareSpecs": false,
    "memoryGiB": 32,
    "name": "ml.c5.4xlarge",
    "vcpuNum": 16
   },
   {
    "_defaultOrder": 25,
    "_isFastLaunch": false,
    "category": "Compute optimized",
    "gpuNum": 0,
    "hideHardwareSpecs": false,
    "memoryGiB": 72,
    "name": "ml.c5.9xlarge",
    "vcpuNum": 36
   },
   {
    "_defaultOrder": 26,
    "_isFastLaunch": false,
    "category": "Compute optimized",
    "gpuNum": 0,
    "hideHardwareSpecs": false,
    "memoryGiB": 96,
    "name": "ml.c5.12xlarge",
    "vcpuNum": 48
   },
   {
    "_defaultOrder": 27,
    "_isFastLaunch": false,
    "category": "Compute optimized",
    "gpuNum": 0,
    "hideHardwareSpecs": false,
    "memoryGiB": 144,
    "name": "ml.c5.18xlarge",
    "vcpuNum": 72
   },
   {
    "_defaultOrder": 28,
    "_isFastLaunch": false,
    "category": "Compute optimized",
    "gpuNum": 0,
    "hideHardwareSpecs": false,
    "memoryGiB": 192,
    "name": "ml.c5.24xlarge",
    "vcpuNum": 96
   },
   {
    "_defaultOrder": 29,
    "_isFastLaunch": true,
    "category": "Accelerated computing",
    "gpuNum": 1,
    "hideHardwareSpecs": false,
    "memoryGiB": 16,
    "name": "ml.g4dn.xlarge",
    "vcpuNum": 4
   },
   {
    "_defaultOrder": 30,
    "_isFastLaunch": false,
    "category": "Accelerated computing",
    "gpuNum": 1,
    "hideHardwareSpecs": false,
    "memoryGiB": 32,
    "name": "ml.g4dn.2xlarge",
    "vcpuNum": 8
   },
   {
    "_defaultOrder": 31,
    "_isFastLaunch": false,
    "category": "Accelerated computing",
    "gpuNum": 1,
    "hideHardwareSpecs": false,
    "memoryGiB": 64,
    "name": "ml.g4dn.4xlarge",
    "vcpuNum": 16
   },
   {
    "_defaultOrder": 32,
    "_isFastLaunch": false,
    "category": "Accelerated computing",
    "gpuNum": 1,
    "hideHardwareSpecs": false,
    "memoryGiB": 128,
    "name": "ml.g4dn.8xlarge",
    "vcpuNum": 32
   },
   {
    "_defaultOrder": 33,
    "_isFastLaunch": false,
    "category": "Accelerated computing",
    "gpuNum": 4,
    "hideHardwareSpecs": false,
    "memoryGiB": 192,
    "name": "ml.g4dn.12xlarge",
    "vcpuNum": 48
   },
   {
    "_defaultOrder": 34,
    "_isFastLaunch": false,
    "category": "Accelerated computing",
    "gpuNum": 1,
    "hideHardwareSpecs": false,
    "memoryGiB": 256,
    "name": "ml.g4dn.16xlarge",
    "vcpuNum": 64
   },
   {
    "_defaultOrder": 35,
    "_isFastLaunch": false,
    "category": "Accelerated computing",
    "gpuNum": 1,
    "hideHardwareSpecs": false,
    "memoryGiB": 61,
    "name": "ml.p3.2xlarge",
    "vcpuNum": 8
   },
   {
    "_defaultOrder": 36,
    "_isFastLaunch": false,
    "category": "Accelerated computing",
    "gpuNum": 4,
    "hideHardwareSpecs": false,
    "memoryGiB": 244,
    "name": "ml.p3.8xlarge",
    "vcpuNum": 32
   },
   {
    "_defaultOrder": 37,
    "_isFastLaunch": false,
    "category": "Accelerated computing",
    "gpuNum": 8,
    "hideHardwareSpecs": false,
    "memoryGiB": 488,
    "name": "ml.p3.16xlarge",
    "vcpuNum": 64
   },
   {
    "_defaultOrder": 38,
    "_isFastLaunch": false,
    "category": "Accelerated computing",
    "gpuNum": 8,
    "hideHardwareSpecs": false,
    "memoryGiB": 768,
    "name": "ml.p3dn.24xlarge",
    "vcpuNum": 96
   },
   {
    "_defaultOrder": 39,
    "_isFastLaunch": false,
    "category": "Memory Optimized",
    "gpuNum": 0,
    "hideHardwareSpecs": false,
    "memoryGiB": 16,
    "name": "ml.r5.large",
    "vcpuNum": 2
   },
   {
    "_defaultOrder": 40,
    "_isFastLaunch": false,
    "category": "Memory Optimized",
    "gpuNum": 0,
    "hideHardwareSpecs": false,
    "memoryGiB": 32,
    "name": "ml.r5.xlarge",
    "vcpuNum": 4
   },
   {
    "_defaultOrder": 41,
    "_isFastLaunch": false,
    "category": "Memory Optimized",
    "gpuNum": 0,
    "hideHardwareSpecs": false,
    "memoryGiB": 64,
    "name": "ml.r5.2xlarge",
    "vcpuNum": 8
   },
   {
    "_defaultOrder": 42,
    "_isFastLaunch": false,
    "category": "Memory Optimized",
    "gpuNum": 0,
    "hideHardwareSpecs": false,
    "memoryGiB": 128,
    "name": "ml.r5.4xlarge",
    "vcpuNum": 16
   },
   {
    "_defaultOrder": 43,
    "_isFastLaunch": false,
    "category": "Memory Optimized",
    "gpuNum": 0,
    "hideHardwareSpecs": false,
    "memoryGiB": 256,
    "name": "ml.r5.8xlarge",
    "vcpuNum": 32
   },
   {
    "_defaultOrder": 44,
    "_isFastLaunch": false,
    "category": "Memory Optimized",
    "gpuNum": 0,
    "hideHardwareSpecs": false,
    "memoryGiB": 384,
    "name": "ml.r5.12xlarge",
    "vcpuNum": 48
   },
   {
    "_defaultOrder": 45,
    "_isFastLaunch": false,
    "category": "Memory Optimized",
    "gpuNum": 0,
    "hideHardwareSpecs": false,
    "memoryGiB": 512,
    "name": "ml.r5.16xlarge",
    "vcpuNum": 64
   },
   {
    "_defaultOrder": 46,
    "_isFastLaunch": false,
    "category": "Memory Optimized",
    "gpuNum": 0,
    "hideHardwareSpecs": false,
    "memoryGiB": 768,
    "name": "ml.r5.24xlarge",
    "vcpuNum": 96
   },
   {
    "_defaultOrder": 47,
    "_isFastLaunch": false,
    "category": "Accelerated computing",
    "gpuNum": 1,
    "hideHardwareSpecs": false,
    "memoryGiB": 16,
    "name": "ml.g5.xlarge",
    "vcpuNum": 4
   },
   {
    "_defaultOrder": 48,
    "_isFastLaunch": false,
    "category": "Accelerated computing",
    "gpuNum": 1,
    "hideHardwareSpecs": false,
    "memoryGiB": 32,
    "name": "ml.g5.2xlarge",
    "vcpuNum": 8
   },
   {
    "_defaultOrder": 49,
    "_isFastLaunch": false,
    "category": "Accelerated computing",
    "gpuNum": 1,
    "hideHardwareSpecs": false,
    "memoryGiB": 64,
    "name": "ml.g5.4xlarge",
    "vcpuNum": 16
   },
   {
    "_defaultOrder": 50,
    "_isFastLaunch": false,
    "category": "Accelerated computing",
    "gpuNum": 1,
    "hideHardwareSpecs": false,
    "memoryGiB": 128,
    "name": "ml.g5.8xlarge",
    "vcpuNum": 32
   },
   {
    "_defaultOrder": 51,
    "_isFastLaunch": false,
    "category": "Accelerated computing",
    "gpuNum": 1,
    "hideHardwareSpecs": false,
    "memoryGiB": 256,
    "name": "ml.g5.16xlarge",
    "vcpuNum": 64
   },
   {
    "_defaultOrder": 52,
    "_isFastLaunch": false,
    "category": "Accelerated computing",
    "gpuNum": 4,
    "hideHardwareSpecs": false,
    "memoryGiB": 192,
    "name": "ml.g5.12xlarge",
    "vcpuNum": 48
   },
   {
    "_defaultOrder": 53,
    "_isFastLaunch": false,
    "category": "Accelerated computing",
    "gpuNum": 4,
    "hideHardwareSpecs": false,
    "memoryGiB": 384,
    "name": "ml.g5.24xlarge",
    "vcpuNum": 96
   },
   {
    "_defaultOrder": 54,
    "_isFastLaunch": false,
    "category": "Accelerated computing",
    "gpuNum": 8,
    "hideHardwareSpecs": false,
    "memoryGiB": 768,
    "name": "ml.g5.48xlarge",
    "vcpuNum": 192
   },
   {
    "_defaultOrder": 55,
    "_isFastLaunch": false,
    "category": "Accelerated computing",
    "gpuNum": 8,
    "hideHardwareSpecs": false,
    "memoryGiB": 1152,
    "name": "ml.p4d.24xlarge",
    "vcpuNum": 96
   },
   {
    "_defaultOrder": 56,
    "_isFastLaunch": false,
    "category": "Accelerated computing",
    "gpuNum": 8,
    "hideHardwareSpecs": false,
    "memoryGiB": 1152,
    "name": "ml.p4de.24xlarge",
    "vcpuNum": 96
   },
   {
    "_defaultOrder": 57,
    "_isFastLaunch": false,
    "category": "Accelerated computing",
    "gpuNum": 0,
    "hideHardwareSpecs": false,
    "memoryGiB": 32,
    "name": "ml.trn1.2xlarge",
    "vcpuNum": 8
   },
   {
    "_defaultOrder": 58,
    "_isFastLaunch": false,
    "category": "Accelerated computing",
    "gpuNum": 0,
    "hideHardwareSpecs": false,
    "memoryGiB": 512,
    "name": "ml.trn1.32xlarge",
    "vcpuNum": 128
   },
   {
    "_defaultOrder": 59,
    "_isFastLaunch": false,
    "category": "Accelerated computing",
    "gpuNum": 0,
    "hideHardwareSpecs": false,
    "memoryGiB": 512,
    "name": "ml.trn1n.32xlarge",
    "vcpuNum": 128
   }
  ],
  "instance_type": "ml.t3.medium",
  "kernelspec": {
   "display_name": "Python 3 (ipykernel)",
   "language": "python",
   "name": "python3"
  },
  "language_info": {
   "codemirror_mode": {
    "name": "ipython",
    "version": 3
   },
   "file_extension": ".py",
   "mimetype": "text/x-python",
   "name": "python",
   "nbconvert_exporter": "python",
   "pygments_lexer": "ipython3",
   "version": "3.10.14"
  }
 },
 "nbformat": 4,
 "nbformat_minor": 5
}
