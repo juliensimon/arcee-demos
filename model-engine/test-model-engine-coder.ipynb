{
 "cells": [
  {
   "cell_type": "code",
   "execution_count": 1,
   "metadata": {},
   "outputs": [],
   "source": [
    "import httpx\n",
    "import os\n",
    "from openai import OpenAI\n",
    "\n",
    "api_key=YOUR_API_KEY \n",
    "\n",
    "endpoint=\"https://models.arcee.ai/v1\"\n",
    "model=\"coder\"\n",
    "\n",
    "client = OpenAI(\n",
    "    base_url=endpoint,\n",
    "    api_key=api_key,\n",
    "    http_client=httpx.Client(http2=True)\n",
    ")"
   ]
  },
  {
   "cell_type": "code",
   "execution_count": 2,
   "metadata": {},
   "outputs": [],
   "source": [
    "def print_streaming_response(response):\n",
    "    num_tokens=0\n",
    "    for message in response:\n",
    "        if len(message.choices) > 0:\n",
    "            num_tokens+=1\n",
    "            print(message.choices[0].delta.content, end=\"\")\n",
    "    print(f\"\\n\\nNumber of tokens: {num_tokens}\")"
   ]
  },
  {
   "cell_type": "code",
   "execution_count": null,
   "metadata": {},
   "outputs": [],
   "source": [
    "response = client.chat.completions.create(\n",
    "  model=model,\n",
    "  messages=[\n",
    "      {'role': 'user', \n",
    "       'content': \"\"\"Explain the difference between logit-based distillation and hidden state distillation. Show an example for both with Pytorch code, \n",
    "       with BERT-Large as the teacher model, and BERT-Base as the student model.\n",
    "       \"\"\"\n",
    "      }   \n",
    "  ],\n",
    "  temperature=0.9,\n",
    "  stream=True,\n",
    "  max_tokens=16384\n",
    ")\n",
    "\n",
    "print_streaming_response(response)"
   ]
  },
  {
   "cell_type": "code",
   "execution_count": null,
   "metadata": {},
   "outputs": [],
   "source": [
    "code_example = \"\"\"\n",
    "def print_streaming_response(response):\n",
    "    num_tokens=0\n",
    "    for message in response:\n",
    "        if len(message.choices) > 0:\n",
    "            num_tokens+=1\n",
    "            print(message.choices[0].delta.content, end=\"\")\n",
    "    print(f\"\\n\\nNumber of tokens: {num_tokens}\")\n",
    "\"\"\"\n",
    "\n",
    "response = client.chat.completions.create(\n",
    "  model=model,\n",
    "  messages=[\n",
    "      {'role': 'user', \n",
    "       'content': f\"Improve the following code: {code_example}. Explain why your changes are an improvement.\"\n",
    "      }   \n",
    "  ],\n",
    "  temperature=0.9,\n",
    "  stream=True,\n",
    "  max_tokens=2048\n",
    ")\n",
    "\n",
    "print_streaming_response(response)"
   ]
  },
  {
   "cell_type": "code",
   "execution_count": null,
   "metadata": {},
   "outputs": [],
   "source": []
  }
 ],
 "metadata": {
  "kernelspec": {
   "display_name": "env-openai-client",
   "language": "python",
   "name": "python3"
  },
  "language_info": {
   "codemirror_mode": {
    "name": "ipython",
    "version": 3
   },
   "file_extension": ".py",
   "mimetype": "text/x-python",
   "name": "python",
   "nbconvert_exporter": "python",
   "pygments_lexer": "ipython3",
   "version": "3.12.7"
  }
 },
 "nbformat": 4,
 "nbformat_minor": 2
}
