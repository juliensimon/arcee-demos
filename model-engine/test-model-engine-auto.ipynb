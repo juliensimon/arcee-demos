{
 "cells": [
  {
   "cell_type": "code",
   "execution_count": 1,
   "metadata": {},
   "outputs": [],
   "source": [
    "import httpx\n",
    "import os\n",
    "from openai import OpenAI\n",
    "from print_streaming_response import print_streaming_response\n",
    "from api_key_conductor import api_key\n",
    "\n",
    "endpoint=\"https://models.arcee.ai/v1\"\n",
    "\n",
    "model=\"auto\"\n",
    "\n",
    "client = OpenAI(\n",
    "    base_url=endpoint,\n",
    "    api_key=api_key,\n",
    "    http_client=httpx.Client(http2=True)\n",
    ")"
   ]
  },
  {
   "cell_type": "code",
   "execution_count": null,
   "metadata": {},
   "outputs": [],
   "source": [
    "response = client.chat.completions.create(\n",
    "  model=model,\n",
    "  messages=[\n",
    "      {'role': 'user', \n",
    "       'content': \"\"\"Write a short welcome message for a new user of Model Engine, Arcee AI's inference platform.\"\"\"\n",
    "      }   \n",
    "  ],\n",
    "  temperature=0.9,\n",
    "  stream=True,\n",
    "  max_tokens=16384\n",
    ")\n",
    "\n",
    "print_streaming_response(response)\n"
   ]
  },
  {
   "cell_type": "code",
   "execution_count": null,
   "metadata": {},
   "outputs": [],
   "source": [
    "response = client.chat.completions.create(\n",
    "  model=model,\n",
    "  messages=[\n",
    "      {'role': 'user', \n",
    "       'content': \"\"\"Explain what put and call options are, and when they are used.\n",
    "       Show a simple example for both.\"\"\"\n",
    "      }   \n",
    "  ],\n",
    "  temperature=0.9,\n",
    "  stream=True,\n",
    "  max_tokens=16384\n",
    ")\n",
    "\n",
    "print_streaming_response(response)\n"
   ]
  },
  {
   "cell_type": "code",
   "execution_count": null,
   "metadata": {},
   "outputs": [],
   "source": [
    "response = client.chat.completions.create(\n",
    "  model=model,\n",
    "  messages=[\n",
    "      {'role': 'user', \n",
    "       'content': \"\"\"Explain the difference between logit-based distillation and hidden state distillation.\n",
    "       Show an example for both with Pytorch code, \n",
    "       with BERT-Large as the teacher model, and BERT-Base as the student model.\n",
    "       \"\"\"\n",
    "      }   \n",
    "  ],\n",
    "  temperature=0.9,\n",
    "  stream=True,\n",
    "  max_tokens=16384\n",
    ")\n",
    "\n",
    "print_streaming_response(response)\n"
   ]
  },
  {
   "cell_type": "code",
   "execution_count": null,
   "metadata": {},
   "outputs": [],
   "source": [
    "response = client.chat.completions.create(\n",
    "  model=model,\n",
    "  messages=[\n",
    "      {'role': 'user', \n",
    "       'content': f\"Write a Python function that prints a streaming response from an OpenAI API call.\"\n",
    "      }   \n",
    "  ],\n",
    "  temperature=0.9,\n",
    "  stream=True,\n",
    "  max_tokens=2048\n",
    ")\n",
    "\n",
    "print_streaming_response(response)"
   ]
  },
  {
   "cell_type": "code",
   "execution_count": null,
   "metadata": {},
   "outputs": [],
   "source": [
    "with open(\"alice.txt\", \"r\") as file:\n",
    "    book_text1 = file.read()\n",
    "\n",
    "# Count the number of words\n",
    "num_words = len(book_text1.split())\n",
    "print(f\"Number of words: {num_words}\")\n",
    "\n",
    "response = client.chat.completions.create(\n",
    "  model=model,\n",
    "  messages=[\n",
    "      {'role': 'user', \n",
    "       'content': f\"\"\"Write a psychological profile of the main characters of this book. \n",
    "       Support your analysis with direct relevant quotes from the text.\n",
    "       \n",
    "       Book: {book_text1}\"\"\"\n",
    "      }   \n",
    "  ],\n",
    "  temperature=0.9,\n",
    "  stream=True,\n",
    "  max_tokens=2048\n",
    ")\n",
    "\n",
    "print_streaming_response(response)"
   ]
  },
  {
   "cell_type": "code",
   "execution_count": null,
   "metadata": {},
   "outputs": [],
   "source": []
  }
 ],
 "metadata": {
  "kernelspec": {
   "display_name": "env-openai-client",
   "language": "python",
   "name": "python3"
  },
  "language_info": {
   "codemirror_mode": {
    "name": "ipython",
    "version": 3
   },
   "file_extension": ".py",
   "mimetype": "text/x-python",
   "name": "python",
   "nbconvert_exporter": "python",
   "pygments_lexer": "ipython3",
   "version": "3.12.9"
  }
 },
 "nbformat": 4,
 "nbformat_minor": 2
}
