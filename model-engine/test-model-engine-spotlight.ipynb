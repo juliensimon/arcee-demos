{
 "cells": [
  {
   "cell_type": "code",
   "execution_count": null,
   "metadata": {},
   "outputs": [],
   "source": [
    "import base64\n",
    "import os\n",
    "\n",
    "from api_key import api_key\n",
    "from IPython.display import Image\n",
    "from openai import OpenAI\n",
    "\n",
    "endpoint = \"https://conductor.arcee.ai/v1\"\n",
    "\n",
    "model = \"spotlight\"\n",
    "\n",
    "client = OpenAI(base_url=endpoint, api_key=api_key)"
   ]
  },
  {
   "cell_type": "code",
   "execution_count": null,
   "metadata": {},
   "outputs": [],
   "source": [
    "from IPython.display import Markdown, clear_output, display\n",
    "\n",
    "\n",
    "def print_streaming_response(response):\n",
    "    num_tokens = 0\n",
    "    content = \"\"\n",
    "    for message in response:\n",
    "        if len(message.choices) > 0:\n",
    "            num_tokens += 1\n",
    "            chunk = message.choices[0].delta.content\n",
    "            if chunk:\n",
    "                content += chunk\n",
    "                clear_output(wait=True)\n",
    "                display(Markdown(content))\n",
    "\n",
    "    print(f\"\\n\\nNumber of tokens: {num_tokens}\")"
   ]
  },
  {
   "cell_type": "code",
   "execution_count": null,
   "metadata": {},
   "outputs": [],
   "source": [
    "url = \"https://img.lemde.fr/2019/07/14/0/0/4674/2832/556/0/75/0/b095b7e_be31f6a29f404568a2e861c48fc4a078-be31f6a29f404568a2e861c48fc4a078-0.jpg\"\n",
    "text = \"Where was this picture taken?\"\n",
    "\n",
    "# display the image\n",
    "display(Image(url))"
   ]
  },
  {
   "cell_type": "code",
   "execution_count": null,
   "metadata": {},
   "outputs": [],
   "source": [
    "response = client.chat.completions.create(\n",
    "    model=model,\n",
    "    messages=[\n",
    "        {\n",
    "            \"role\": \"user\",\n",
    "            \"content\": [\n",
    "                {\"type\": \"text\", \"text\": text},\n",
    "                {\"type\": \"image_url\", \"image_url\": {\"url\": url}},\n",
    "            ],\n",
    "        }\n",
    "    ],\n",
    "    temperature=0.9,\n",
    "    stream=True,\n",
    "    max_tokens=2048,\n",
    ")\n",
    "\n",
    "print_streaming_response(response)"
   ]
  },
  {
   "cell_type": "code",
   "execution_count": null,
   "metadata": {},
   "outputs": [],
   "source": [
    "text = \"Write a short and precise caption for this picture\"\n",
    "\n",
    "response = client.chat.completions.create(\n",
    "    model=model,\n",
    "    messages=[\n",
    "        {\n",
    "            \"role\": \"user\",\n",
    "            \"content\": [\n",
    "                {\"type\": \"text\", \"text\": text},\n",
    "                {\"type\": \"image_url\", \"image_url\": {\"url\": url}},\n",
    "            ],\n",
    "        }\n",
    "    ],\n",
    "    temperature=0.9,\n",
    "    stream=True,\n",
    "    max_tokens=2048,\n",
    ")\n",
    "\n",
    "print_streaming_response(response)"
   ]
  },
  {
   "cell_type": "code",
   "execution_count": null,
   "metadata": {},
   "outputs": [],
   "source": [
    "text = \"\"\"Generate JSON metadata for this picture:\n",
    "- Country\n",
    "- City\n",
    "- Landmarks\n",
    "- Short description\n",
    "- Detailed description\n",
    "- Themes\n",
    "- Keywords\n",
    "\"\"\"\n",
    "\n",
    "response = client.chat.completions.create(\n",
    "    model=model,\n",
    "    messages=[\n",
    "        {\n",
    "            \"role\": \"user\",\n",
    "            \"content\": [\n",
    "                {\"type\": \"text\", \"text\": text},\n",
    "                {\"type\": \"image_url\", \"image_url\": {\"url\": url}},\n",
    "            ],\n",
    "        }\n",
    "    ],\n",
    "    temperature=0.9,\n",
    "    stream=True,\n",
    "    max_tokens=2048,\n",
    ")\n",
    "\n",
    "print_streaming_response(response)"
   ]
  },
  {
   "cell_type": "code",
   "execution_count": null,
   "metadata": {},
   "outputs": [],
   "source": [
    "def load_image_as_base64(file_path):\n",
    "    # Load the image as a base64 string\n",
    "    with open(file_path, \"rb\") as image_file:\n",
    "        base64_string = base64.b64encode(image_file.read()).decode(\"utf-8\")\n",
    "    return base64_string"
   ]
  },
  {
   "cell_type": "code",
   "execution_count": null,
   "metadata": {},
   "outputs": [],
   "source": [
    "image_file = \"july14th.jpg\"\n",
    "image_base64 = load_image_as_base64(image_file)\n",
    "\n",
    "response = client.chat.completions.create(\n",
    "    model=model,\n",
    "    messages=[\n",
    "        {\n",
    "            \"role\": \"user\",\n",
    "            \"content\": [\n",
    "                {\"type\": \"text\", \"text\": text},\n",
    "                {\n",
    "                    \"type\": \"image_url\",\n",
    "                    \"image_url\": {\"url\": f\"data:image/jpeg;base64,{image_base64}\"},\n",
    "                },\n",
    "            ],\n",
    "        }\n",
    "    ],\n",
    "    temperature=0.9,\n",
    "    stream=True,\n",
    "    max_tokens=2048,\n",
    ")\n",
    "\n",
    "print_streaming_response(response)"
   ]
  },
  {
   "cell_type": "code",
   "execution_count": null,
   "metadata": {},
   "outputs": [],
   "source": []
  }
 ],
 "metadata": {
  "kernelspec": {
   "display_name": "env-openai-client",
   "language": "python",
   "name": "python3"
  },
  "language_info": {
   "codemirror_mode": {
    "name": "ipython",
    "version": 3
   },
   "file_extension": ".py",
   "mimetype": "text/x-python",
   "name": "python",
   "nbconvert_exporter": "python",
   "pygments_lexer": "ipython3",
   "version": "3.12.9"
  }
 },
 "nbformat": 4,
 "nbformat_minor": 2
}
