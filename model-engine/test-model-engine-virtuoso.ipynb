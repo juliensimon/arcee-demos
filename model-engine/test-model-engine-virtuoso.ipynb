{
 "cells": [
  {
   "cell_type": "code",
   "execution_count": 3,
   "metadata": {},
   "outputs": [],
   "source": [
    "import httpx\n",
    "import os\n",
    "from openai import OpenAI\n",
    "\n",
    "api_key=YOUR_API_KEY \n",
    "\n",
    "endpoint=\"https://models.arcee.ai/v1\"\n",
    "model=\"virtuoso-large\"\n",
    "\n",
    "client = OpenAI(\n",
    "    base_url=endpoint,\n",
    "    api_key=api_key,\n",
    "    http_client=httpx.Client(http2=True)\n",
    ")"
   ]
  },
  {
   "cell_type": "code",
   "execution_count": 4,
   "metadata": {},
   "outputs": [],
   "source": [
    "def print_streaming_response(response):\n",
    "    num_tokens=0\n",
    "    for message in response:\n",
    "        if len(message.choices) > 0:\n",
    "            num_tokens+=1\n",
    "            print(message.choices[0].delta.content, end=\"\")\n",
    "    print(f\"\\n\\nNumber of tokens: {num_tokens}\")"
   ]
  },
  {
   "cell_type": "code",
   "execution_count": null,
   "metadata": {},
   "outputs": [],
   "source": [
    "response = client.chat.completions.create(\n",
    "  model=model,\n",
    "  messages=[\n",
    "      {'role': 'user', \n",
    "       'content': 'Write a short horror story in the style of HP Lovecraft. It should take place in the 1920s in Antarctica. Write at least 2000 words.'\n",
    "      }   \n",
    "  ],\n",
    "  temperature=0.9,\n",
    "  stream=True,\n",
    "  max_tokens=16384\n",
    ")\n",
    "\n",
    "print_streaming_response(response)"
   ]
  },
  {
   "cell_type": "code",
   "execution_count": null,
   "metadata": {},
   "outputs": [],
   "source": [
    "with open(\"alice.txt\", \"r\") as file:\n",
    "    book_text1 = file.read()\n",
    "\n",
    "# Count the number of words\n",
    "num_words = len(book_text1.split())\n",
    "print(f\"Number of words: {num_words}\")\n",
    "\n",
    "with open(\"gatsby.txt\", \"r\") as file:\n",
    "    book_text2 = file.read()\n",
    "\n",
    "# Count the number of words\n",
    "num_words = len(book_text2.split())\n",
    "print(f\"Number of words: {num_words}\")\n",
    "\n",
    "response = client.chat.completions.create(\n",
    "  model=model,\n",
    "  messages=[\n",
    "      {'role': 'user', \n",
    "       'content': f\"\"\"Draw a parallel between the main characters of these two books.\n",
    "       \n",
    "       First text: {book_text1}\n",
    "       \n",
    "       Second text: {book_text2}\"\"\"\n",
    "      }   \n",
    "  ],\n",
    "  temperature=0.9,\n",
    "  stream=True,\n",
    "  max_tokens=2048\n",
    ")\n",
    "\n",
    "print_streaming_response(response)"
   ]
  },
  {
   "cell_type": "code",
   "execution_count": null,
   "metadata": {},
   "outputs": [],
   "source": []
  },
  {
   "cell_type": "code",
   "execution_count": null,
   "metadata": {},
   "outputs": [],
   "source": []
  }
 ],
 "metadata": {
  "kernelspec": {
   "display_name": "env-openai-client",
   "language": "python",
   "name": "python3"
  },
  "language_info": {
   "codemirror_mode": {
    "name": "ipython",
    "version": 3
   },
   "file_extension": ".py",
   "mimetype": "text/x-python",
   "name": "python",
   "nbconvert_exporter": "python",
   "pygments_lexer": "ipython3",
   "version": "3.12.7"
  }
 },
 "nbformat": 4,
 "nbformat_minor": 2
}
