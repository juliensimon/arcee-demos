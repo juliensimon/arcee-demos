{
 "cells": [
  {
   "cell_type": "code",
   "execution_count": 3,
   "metadata": {},
   "outputs": [],
   "source": [
    "%%sh\n",
    "pip install -qU httpx[http2] yfinance openai"
   ]
  },
  {
   "cell_type": "code",
   "execution_count": 2,
   "metadata": {},
   "outputs": [],
   "source": [
    "import httpx\n",
    "import json\n",
    "import pprint\n",
    "import yfinance\n",
    "from openai import OpenAI\n",
    "from api_key import api_key\n",
    "\n",
    "endpoint=\"https://models.arcee.ai/v1\"\n",
    "\n",
    "client = OpenAI(\n",
    "    base_url=endpoint,\n",
    "    api_key=api_key,\n",
    "    http_client=httpx.Client(http2=True)\n",
    ")"
   ]
  },
  {
   "cell_type": "code",
   "execution_count": 3,
   "metadata": {},
   "outputs": [],
   "source": [
    "def get_stock_price(company_name, stock_symbol):\n",
    "    stock = yfinance.Ticker(stock_symbol)\n",
    "    price = stock.history(period=\"1d\")[\"Close\"].values[0]\n",
    "    return f\"The last closing price of {company_name} ({stock_symbol}) was ${price:.2f}.\"\n",
    "\n",
    "\n",
    "def get_ceo_name(company_name, stock_symbol):\n",
    "    stock = yfinance.Ticker(stock_symbol)\n",
    "    info = stock.info\n",
    "    ceo = info['companyOfficers'][0]['name']\n",
    "    return f\"The CEO of {company_name} is {ceo}. The full job title is {info['companyOfficers'][0]['title']}.\"\n",
    "\n",
    "\n",
    "def get_company_summary(company_name, stock_symbol):\n",
    "    stock = yfinance.Ticker(stock_symbol)\n",
    "    summary = stock.info['longBusinessSummary']\n",
    "    return summary"
   ]
  },
  {
   "cell_type": "code",
   "execution_count": null,
   "metadata": {},
   "outputs": [],
   "source": [
    "get_stock_price(\"Google\", \"GOOGL\")"
   ]
  },
  {
   "cell_type": "code",
   "execution_count": null,
   "metadata": {},
   "outputs": [],
   "source": [
    "get_ceo_name(\"Ford\", \"F\")"
   ]
  },
  {
   "cell_type": "code",
   "execution_count": null,
   "metadata": {},
   "outputs": [],
   "source": [
    "get_company_summary(\"Verizon\", \"VZ\")"
   ]
  },
  {
   "cell_type": "code",
   "execution_count": 7,
   "metadata": {},
   "outputs": [],
   "source": [
    "tools = [\n",
    "    {\n",
    "        \"type\": \"function\",\n",
    "        \"function\": {\n",
    "            \"name\": \"get_stock_price\",\n",
    "            \"description\": \"Use this function to get the last price of a stock\",\n",
    "            \"parameters\": {\n",
    "                \"type\": \"object\",\n",
    "                \"properties\": {\n",
    "                    \"company_name\": {\n",
    "                        \"type\": \"string\",\n",
    "                        \"description\": \"A company name (e.g., Mc Donalds)\",\n",
    "                    },\n",
    "                    \"stock_symbol\": {\n",
    "                        \"type\": \"string\",\n",
    "                        \"description\": \"A company stock ticker (e.g., MCD)\",\n",
    "                    },\n",
    "                },\n",
    "                \"required\": [\"company_name\", \"stock_symbol\"],\n",
    "            },\n",
    "        },\n",
    "    },\n",
    "    {\n",
    "        \"type\": \"function\",\n",
    "        \"function\": {\n",
    "            \"name\": \"get_ceo_name\",\n",
    "            \"description\": \"Use this function to get the name of a company's CEO\",\n",
    "            \"parameters\": {\n",
    "                \"type\": \"object\",\n",
    "                \"properties\": {\n",
    "                    \"company_name\": {\n",
    "                        \"type\": \"string\",\n",
    "                        \"description\": \"A company name (e.g., Mc Donalds)\",\n",
    "                    },\n",
    "                    \"stock_symbol\": {\n",
    "                        \"type\": \"string\",\n",
    "                        \"description\": \"A company stock ticker (e.g., MCD)\",\n",
    "                    },\n",
    "                },\n",
    "                \"required\": [\"company_name\", \"stock_symbol\"],\n",
    "            },\n",
    "        },\n",
    "    },\n",
    "    {\n",
    "        \"type\": \"function\",\n",
    "        \"function\": {\n",
    "            \"name\": \"get_company_summary\",\n",
    "            \"description\": \"Use this function to describe a company's activities, products, services, and customers\",\n",
    "            \"parameters\": {\n",
    "                \"type\": \"object\",\n",
    "                \"properties\": {\n",
    "                    \"company_name\": {\n",
    "                        \"type\": \"string\",\n",
    "                        \"description\": \"A company name (e.g., Mc Donalds)\",\n",
    "                    },\n",
    "                    \"stock_symbol\": {\n",
    "                        \"type\": \"string\",\n",
    "                        \"description\": \"A company stock ticker (e.g., MCD)\",\n",
    "                    },\n",
    "                },\n",
    "                \"required\": [\"company_name\", \"stock_symbol\"],\n",
    "            },\n",
    "        },\n",
    "    }\n",
    "]"
   ]
  },
  {
   "cell_type": "code",
   "execution_count": 8,
   "metadata": {},
   "outputs": [],
   "source": [
    "def call_tools(user_prompt, max_tokens=128):\n",
    "    response = client.chat.completions.create(\n",
    "        model=\"caller\",\n",
    "        messages=[\n",
    "\n",
    "            {\n",
    "                \"role\": \"user\",\n",
    "                \"content\": user_prompt\n",
    "            }\n",
    "        ],\n",
    "        tools=tools,\n",
    "        tool_choice=\"auto\",\n",
    "        max_tokens=max_tokens,\n",
    "    )\n",
    "    \n",
    "    tool_calls = response.choices[0].message.tool_calls\n",
    "\n",
    "    # Check if there are any tool calls\n",
    "    if tool_calls:\n",
    "        # Extract the first tool call (assuming there's at least one)\n",
    "        first_tool_call = tool_calls[0]\n",
    "        \n",
    "        # Extract function name and arguments\n",
    "        function_name = first_tool_call.function.name\n",
    "        arguments_json = first_tool_call.function.arguments\n",
    "        arguments_dict = json.loads(arguments_json)\n",
    "        \n",
    "        ## Assuming the function is in the current namespace or imported\n",
    "        if function_name in globals():\n",
    "            # Get the function object based on its name\n",
    "            function_to_call = globals()[function_name]\n",
    "            \n",
    "            print(f\"Calling {function_name} with arguments: {arguments_dict}\")\n",
    "            \n",
    "            # Call the function with unpacked keyword arguments\n",
    "            result = function_to_call(**arguments_dict)\n",
    "            return result\n",
    "        else:\n",
    "            print(f\"Function {function_name} not found in the global namespace.\")\n",
    "            return None\n",
    "    else:\n",
    "        # No tool call: print the generated response\n",
    "        print(\"No tool call\")\n",
    "        return None\n"
   ]
  },
  {
   "cell_type": "code",
   "execution_count": 17,
   "metadata": {},
   "outputs": [],
   "source": [
    "#user_prompt = \"Who's the CEO of General Motors?\"\n",
    "#user_prompt = \"What's the last price of Mc Donalds?\"\n",
    "user_prompt = \"What's the main business of 3M?\"\n",
    "#user_prompt = \"Where are the main offices of 3M?\"\n",
    "#user_prompt = \"What's the population of the capital of New Zealand?\"\n",
    "#user_prompt = \"Is Lamb Weston the largest producer of french fries?\""
   ]
  },
  {
   "cell_type": "code",
   "execution_count": null,
   "metadata": {},
   "outputs": [],
   "source": [
    "response = call_tools(user_prompt)\n",
    "pprint.pprint(response)"
   ]
  },
  {
   "cell_type": "code",
   "execution_count": 21,
   "metadata": {},
   "outputs": [],
   "source": [
    "def call_tools_and_invoke_model(user_prompt, max_tokens=512):\n",
    "    tool_result = call_tools(user_prompt)\n",
    "    \n",
    "    response = client.chat.completions.create(\n",
    "        model=\"virtuoso-small\",\n",
    "        messages=[\n",
    "            {\n",
    "                \"role\": \"system\",\n",
    "                \"content\": \"You are a knowledgeable financial assistant giving structured and detailed answers. Use a business-oriented tone.\"\n",
    "            },\n",
    "            {\n",
    "                \"role\": \"user\",\n",
    "                \"content\": f\"\"\"Answer the following question: {user_prompt} using the tool result: {tool_result}.\n",
    "                If the tool result is empty or not useful, say it is not useful and answer the question without using the tool result.\n",
    "                If the tool result is useful, you can augment it with your own knowledge as long as it's not contradictory.\n",
    "                \"\"\"\n",
    "            }\n",
    "        ],\n",
    "        max_tokens=max_tokens\n",
    "    )\n",
    "    return response.choices[0].message.content\n"
   ]
  },
  {
   "cell_type": "code",
   "execution_count": null,
   "metadata": {},
   "outputs": [],
   "source": [
    "response = call_tools_and_invoke_model(user_prompt)\n",
    "pprint.pprint(response)\n"
   ]
  },
  {
   "cell_type": "code",
   "execution_count": null,
   "metadata": {},
   "outputs": [],
   "source": []
  },
  {
   "cell_type": "code",
   "execution_count": null,
   "metadata": {},
   "outputs": [],
   "source": []
  }
 ],
 "metadata": {
  "kernelspec": {
   "display_name": "env-openai-client",
   "language": "python",
   "name": "python3"
  },
  "language_info": {
   "codemirror_mode": {
    "name": "ipython",
    "version": 3
   },
   "file_extension": ".py",
   "mimetype": "text/x-python",
   "name": "python",
   "nbconvert_exporter": "python",
   "pygments_lexer": "ipython3",
   "version": "3.10.16"
  }
 },
 "nbformat": 4,
 "nbformat_minor": 2
}
