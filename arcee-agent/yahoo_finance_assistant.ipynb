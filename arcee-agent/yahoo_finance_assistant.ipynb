{
 "cells": [
  {
   "cell_type": "code",
   "execution_count": 608,
   "metadata": {},
   "outputs": [],
   "source": [
    "from langchain_community.llms import Ollama\n",
    "import pprint\n",
    "import yfinance\n",
    "\n",
    "AGENT_MODEL_NAME = \"arcee-ai/arcee-agent\"\n",
    "\n",
    "func_prompt = \"\"\"You have four primary functions: checking the last price of a specified stock, finding the name of a company CEO, finding what a company does, and answering specific questions about a company. Use the appropriate function based on the user's query.\n",
    "\n",
    "### Functions:\n",
    "\n",
    "1. **get_stock_price(company_name: str, stock_symbol: str) -> str**\n",
    "    - This function returns the last close price of a specified stock.\n",
    "    - Input: A company name (e.g., Mc Donalds), which you must convert to a stock symbol (e.g., MCD).\n",
    "    - Output: A string containing the last close price of the specified stock (e.g., \"The last closing price of Mc Donalds (MCD) is $250.00\").\n",
    "\n",
    "2. **get_ceo_name(company_name: str, stock_symbol: str) -> str**\n",
    "- This function returns the name of the CEO of a specified company.\n",
    "- Input: A company name (e.g., Mc Donalds), which you must convert to a stock symbol (e.g., MCD).\n",
    "- Output: A string containing the name of the CEO of the specified company (e.g., \"The CEO of Mc Donalds is John Doe\").\n",
    "\n",
    "3. **get_company_summary(company_name: str, stock_symbol: str) -> str**\n",
    "- This function returns a summary describing the business activities of a specified company.\n",
    "- Input: A company name (e.g., Mc Donalds), which you must convert to a stock symbol (e.g., MCD).\n",
    "- Output: A string containing a detailed summary of the specified company's business activities.\n",
    "\n",
    "4. **answer_general_question(question: str) -> str**\n",
    "    - This function answers questions in general.\n",
    "    - Input: a user question.\n",
    "    - Output: your best answer to the user question.\n",
    "   \n",
    "### Instructions:\n",
    "\n",
    "- If the user asks a question related to the price of a stock, use the `get_stock_price` function.\n",
    "- If the user asks a question related to the CEO of a company, use the `get_ceo_name` function.\n",
    "- If the user asks a general question about a company's activities, use the `get_company_summary` function.\n",
    "- If the user asks any other question, use the `answer_general_question` function. Only return the result of the function call, not your internal reasoning.\n",
    "- Only return the result of the function call.\n",
    "\n",
    "### User Query:\\n\"\"\"\n",
    "\n",
    "agent = Ollama(\n",
    "    model=AGENT_MODEL_NAME,\n",
    "    system=\"\"\"You are a helpful chat assistant.\"\"\",\n",
    "    top_p=0.7,\n",
    ")  # assuming you have run  `ollama pull arcee-ai/arcee-agent`\n",
    "\n",
    "\n",
    "def function_call(input, model=agent, func_prompt=func_prompt):\n",
    "    payload = f\"\"\"{func_prompt}{input}\\n\"\"\"\n",
    "    ans = model.invoke(payload)\n",
    "    return(ans)\n"
   ]
  },
  {
   "cell_type": "code",
   "execution_count": 616,
   "metadata": {},
   "outputs": [],
   "source": [
    "def get_stock_price(company_name, stock_symbol):\n",
    "    stock = yfinance.Ticker(stock_symbol)\n",
    "    price = stock.history(period=\"1d\")[\"Close\"].values[0]\n",
    "    return f\"The last closing price of {company_name} ({stock_symbol}) was ${price:.2f}.\"\n",
    "\n",
    "def get_ceo_name(company_name, stock_symbol):\n",
    "    stock = yfinance.Ticker(stock_symbol)\n",
    "    info = stock.info\n",
    "    ceo = info['companyOfficers'][0]['name']\n",
    "    return f\"The CEO of {company_name} is {ceo}. The full job title is {info['companyOfficers'][0]['title']}.\"\n",
    "\n",
    "def get_company_summary(company_name, stock_symbol):\n",
    "    stock = yfinance.Ticker(stock_symbol)\n",
    "    summary = stock.info['longBusinessSummary']\n",
    "    return f\"{company_name} ({stock_symbol}) is a company that is involved in {summary}.\"\n",
    "\n",
    "def answer_general_question(question):\n",
    "    ans = agent.invoke(f\"\"\"{question}\\n\"\"\")\n",
    "    return(ans)\n",
    "\n",
    "def llm_pack(input):\n",
    "    try:\n",
    "        func = function_call(input).strip()\n",
    "        print(func)\n",
    "        code = f\"result = {func}\"\n",
    "        local_vars = {}\n",
    "        exec(code, globals(), local_vars)\n",
    "        ans = local_vars.get('result').strip()\n",
    "        return ans\n",
    "    except Exception as e:\n",
    "        return"
   ]
  },
  {
   "cell_type": "code",
   "execution_count": 617,
   "metadata": {},
   "outputs": [
    {
     "name": "stdout",
     "output_type": "stream",
     "text": [
      "get_stock_price('Caterpillar', 'CAT')\n",
      "The last closing price of Caterpillar (CAT) was $320.87.\n"
     ]
    }
   ],
   "source": [
    "response = llm_pack(\"What the stock price for Caterpillar?\")\n",
    "print(response)"
   ]
  },
  {
   "cell_type": "code",
   "execution_count": 618,
   "metadata": {},
   "outputs": [
    {
     "name": "stdout",
     "output_type": "stream",
     "text": [
      "get_ceo_name(\"Caterpillar\", \"CAT\")\n",
      "The CEO of Caterpillar is Mr. D. James Umpleby III. The full job title is Chairman of the Board & CEO.\n"
     ]
    }
   ],
   "source": [
    "response = llm_pack(\"Who runs Caterpillar?\")\n",
    "print(response)"
   ]
  },
  {
   "cell_type": "code",
   "execution_count": 619,
   "metadata": {},
   "outputs": [
    {
     "name": "stdout",
     "output_type": "stream",
     "text": [
      "get_company_summary(\"Caterpillar\", \"CAT\")\n",
      "('Caterpillar (CAT) is a company that is involved in Caterpillar Inc. '\n",
      " 'manufactures and sells construction and mining equipment, off-highway diesel '\n",
      " 'and natural gas engines, industrial gas turbines, and diesel-electric '\n",
      " 'locomotives in worldwide. Its Construction Industries segment offers asphalt '\n",
      " 'pavers, compactors, road reclaimers, forestry machines, cold planers, '\n",
      " 'material handlers, track-type tractors, excavators, telehandlers, motor '\n",
      " 'graders, and pipelayers; compact track, wheel, track-type, backhoe, and skid '\n",
      " \"steer loaders; and related parts and tools. The company's Resource \"\n",
      " 'Industries segment provides electric rope and hydraulic shovels, draglines, '\n",
      " 'rotary drills, hard rock vehicles, tractors, mining trucks, wheel loaders, '\n",
      " 'off-highway and articulated trucks, wheel tractor scrapers and dozers, fleet '\n",
      " 'management products, landfill and soil compactors, machinery components, '\n",
      " 'autonomous ready vehicles and solutions, work tools, and safety services and '\n",
      " 'mining performance solutions, as well as related parts and services. Its '\n",
      " 'Energy & Transportation segment offers reciprocating engine powered '\n",
      " 'generator sets; reciprocating engines, drivetrain, and integrated systems '\n",
      " 'and solutions; turbines, centrifugal gas compressors, and related services; '\n",
      " 'and diesel-electric locomotives and components, and other rail-related '\n",
      " \"products. The company's Financial Products segment provides operating and \"\n",
      " 'finance leases, installment sale contracts, revolving charge accounts, '\n",
      " 'repair/rebuild financing services, working capital loans, and wholesale '\n",
      " 'financing; and insurance and risk management products and services. Its All '\n",
      " 'Other Operating segment offers filters and fluids, undercarriage, ground '\n",
      " 'engaging tools, fluid transfer products, precision seals, and rubber sealing '\n",
      " 'and connecting components; parts distribution; logistics solutions and '\n",
      " 'distribution services; brand management and marketing strategy services; and '\n",
      " 'digital investments services. Caterpillar Inc. was founded in 1925 and is '\n",
      " 'headquartered in Irving, Texas..')\n"
     ]
    }
   ],
   "source": [
    "response = llm_pack(\"What does Caterpillar build?\")\n",
    "pprint.pprint(response)"
   ]
  },
  {
   "cell_type": "code",
   "execution_count": 620,
   "metadata": {},
   "outputs": [
    {
     "name": "stdout",
     "output_type": "stream",
     "text": [
      "answer_general_question(\"Who are the main competitors of Caterpillar?\")\n",
      "Caterpillar, Inc., is a global leader in construction and mining equipment, diesel and natural gas engines, industrial gas turbines, and diesel-electric locomotives. Some of its main competitors in various segments include:\n",
      "\n",
      "1. Komatsu Ltd: A Japanese multinational corporation that specializes in the production of construction, mining, forestry, and earthmoving equipment.\n",
      "2. Deere & Company (John Deere): An American corporation known for manufacturing agricultural, forestry, and construction machinery, as well as engines and lawn care products.\n",
      "3. Volvo Group: A Swedish multinational corporation that produces trucks, buses, construction equipment, marine and industrial engines, as well as power generation systems.\n",
      "4. Hitachi Construction Machinery Co., Ltd.: A Japanese company that manufactures a wide range of construction machinery, including excavators, loaders, and compactors.\n",
      "5. Doosan Heavy Industries & Construction: A South Korean conglomerate that produces heavy machinery, including construction equipment, industrial engines, and power plants.\n",
      "6. Liebherr Group: A German multinational corporation that specializes in the production of construction machinery, mining equipment, shipbuilding components, and aerospace systems.\n",
      "7. Hitachi Construction Machinery Americas Inc.: Another subsidiary of Hitachi Ltd., which operates in North America and focuses on manufacturing and selling construction machinery.\n",
      "8. Terex Corporation: An American company that produces a variety of construction, mining, and agricultural equipment, as well as cranes and materials handling systems.\n",
      "9. CNH Industrial N.V.: A Dutch-British multinational corporation that specializes in the production of agricultural equipment (Case IH) and construction equipment (New Holland Construction).\n",
      "10. Wirtgen Group: A German company that manufactures road construction machinery, including cold milling machines, planers, and compactors.\n",
      "\n",
      "These companies are major players in their respective markets and often compete with Caterpillar in various segments of the heavy equipment industry.\n"
     ]
    }
   ],
   "source": [
    "response = llm_pack(f\"Who are the main competitors of Caterpillar?\")\n",
    "print(response)"
   ]
  },
  {
   "cell_type": "code",
   "execution_count": null,
   "metadata": {},
   "outputs": [],
   "source": []
  },
  {
   "cell_type": "code",
   "execution_count": null,
   "metadata": {},
   "outputs": [],
   "source": []
  }
 ],
 "metadata": {
  "kernelspec": {
   "display_name": "arcee-demo3",
   "language": "python",
   "name": "python3"
  },
  "language_info": {
   "codemirror_mode": {
    "name": "ipython",
    "version": 3
   },
   "file_extension": ".py",
   "mimetype": "text/x-python",
   "name": "python",
   "nbconvert_exporter": "python",
   "pygments_lexer": "ipython3",
   "version": "3.12.4"
  }
 },
 "nbformat": 4,
 "nbformat_minor": 2
}
