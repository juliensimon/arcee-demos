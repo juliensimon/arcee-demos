{
  "cells": [
    {
      "cell_type": "markdown",
      "metadata": {
        "vscode": {
          "languageId": "raw"
        }
      },
      "source": [
        "# Arcee AI AFM-4.5B-Preview Demo Across Domains with DeepSeek-R1 Evaluation\n",
        "\n",
        "This notebook demonstrates the capabilities of Arcee AI's [AFM-4.5B-Preview model](https://api.together.ai/models/arcee-ai/AFM-4.5B-Preview) across different domains and use cases. Each response from AFM-4.5B-Preview is evaluated by [DeepSeek-R1](https://api.together.ai/models/deepseek-ai/DeepSeek-R1) to provide an independent assessment of answer quality.\n",
        "\n",
        "We'll explore how the AFM-4.5B-Preview model performs on challenging tasks including:\n",
        "\n",
        "- Advanced Knowledge Questions\n",
        "- Sophisticated Creative Writing\n",
        "- Specialized Domain-Specific Applications\n",
        "\n",
        "This approach provides both the model's response and an expert evaluation of its performance on each task. Out of the box, it can answer complex domain-specific questions, and will easily be fine-tuned for even greater precision. Contact julien@arcee.ai for details.\n",
        "\n",
        "The final model will be released on Hugging Face in the next few weeks, with a non-commercial license. In the meantime, the preview model is free to use on Together AI :)\n"
      ]
    },
    {
      "cell_type": "markdown",
      "metadata": {
        "vscode": {
          "languageId": "raw"
        }
      },
      "source": [
        "## Install Required Packages\n"
      ]
    },
    {
      "cell_type": "code",
      "execution_count": 1,
      "metadata": {},
      "outputs": [
        {
          "name": "stdout",
          "output_type": "stream",
          "text": [
            "Requirement already satisfied: pip in ./env/lib/python3.12/site-packages (25.1.1)\n"
          ]
        }
      ],
      "source": [
        "!pip install -U pip\n",
        "!pip install -qU together\n"
      ]
    },
    {
      "cell_type": "markdown",
      "metadata": {
        "vscode": {
          "languageId": "raw"
        }
      },
      "source": [
        "## Set Up API Key and Import Libraries\n"
      ]
    },
    {
      "cell_type": "code",
      "execution_count": 2,
      "metadata": {},
      "outputs": [
        {
          "name": "stdout",
          "output_type": "stream",
          "text": [
            "✅ API key loaded successfully and client initialized\n"
          ]
        }
      ],
      "source": [
        "import os\n",
        "import json\n",
        "import ipywidgets as widgets\n",
        "from IPython.display import Markdown, display, HTML\n",
        "from together import Together\n",
        "\n",
        "# Initialize the Together client\n",
        "api_key = os.environ.get(\"TOGETHER_API_KEY\")\n",
        "\n",
        "# Verify API key is available\n",
        "if api_key is None:\n",
        "    print(\"⚠️ TOGETHER_API_KEY environment variable not found. Please set it before proceeding.\")\n",
        "    print(\"You can set it with: import os; os.environ['TOGETHER_API_KEY'] = 'your_api_key_here'\")\n",
        "else:\n",
        "    # Create a client instance\n",
        "    client = Together(api_key=api_key)\n",
        "    print(\"✅ API key loaded successfully and client initialized\")\n"
      ]
    },
    {
      "cell_type": "markdown",
      "metadata": {
        "vscode": {
          "languageId": "raw"
        }
      },
      "source": [
        "## Model Queries with Real-time Streaming\n",
        "\n",
        "This notebook demonstrates:\n",
        "- Real-time streaming of AFM-4.5B-Preview responses as they are generated\n",
        "- Automatic evaluation of each response by DeepSeek-R1\n",
        "- Clean presentation of questions, answers, and evaluations\n",
        "- Robust error handling with fallbacks if streaming fails\n"
      ]
    },
    {
      "cell_type": "code",
      "execution_count": 3,
      "metadata": {},
      "outputs": [],
      "source": [
        "def stream_afm_response(messages, max_tokens=1024, temperature=0.7):\n",
        "    \"\"\"\n",
        "    Stream responses from AFM-4.5B-Preview and then get DeepSeek-R1's evaluation.\n",
        "    \n",
        "    Args:\n",
        "        messages: List of message dictionaries with 'role' and 'content'\n",
        "        max_tokens: Maximum number of tokens to generate\n",
        "        temperature: Controls randomness (0.0-1.0)\n",
        "        \n",
        "    Returns:\n",
        "        The AFM model's response as a string\n",
        "    \"\"\"\n",
        "    # Get the question\n",
        "    question = messages[-1]['content']\n",
        "    \n",
        "    # Display the question\n",
        "    display(Markdown(f\"\"\"### Question\n",
        "{question}\"\"\"))\n",
        "    \n",
        "    # Display AFM header\n",
        "    display(Markdown(\"### AFM-4.5B-Preview Response\"))\n",
        "    \n",
        "    # Create streaming output for AFM\n",
        "    afm_output = widgets.HTML(value=\"\")\n",
        "    display(afm_output)\n",
        "    \n",
        "    # Stream the AFM response\n",
        "    full_response = \"\"\n",
        "    stream_success = False\n",
        "    \n",
        "    try:\n",
        "        # Stream the response\n",
        "        for chunk in client.chat.completions.create(\n",
        "            model=\"arcee-ai/AFM-4.5B-Preview\",\n",
        "            messages=messages,\n",
        "            max_tokens=max_tokens,\n",
        "            temperature=temperature,\n",
        "            stream=True,\n",
        "        ):\n",
        "            # Safely extract content from the chunk\n",
        "            if hasattr(chunk, 'choices') and len(chunk.choices) > 0:\n",
        "                if hasattr(chunk.choices[0], 'delta'):\n",
        "                    content = chunk.choices[0].delta.content\n",
        "                    if content is not None:\n",
        "                        # Accumulate the full response\n",
        "                        full_response += content\n",
        "                        # Update the output with the current response\n",
        "                        afm_output.value = f\"\"\"<div style=\"white-space: pre-wrap; font-family: monospace;\">{full_response}</div>\"\"\"\n",
        "                        stream_success = True\n",
        "        \n",
        "        # If streaming fails or produces no content, fall back to non-streaming\n",
        "        if not stream_success:\n",
        "            afm_output.value = \"<div>Streaming produced no content. Falling back to non-streaming API call.</div>\"\n",
        "            response = client.chat.completions.create(\n",
        "                model=\"arcee-ai/AFM-4.5B-Preview\",\n",
        "                messages=messages,\n",
        "                max_tokens=max_tokens,\n",
        "                temperature=temperature,\n",
        "            )\n",
        "            full_response = response.choices[0].message.content\n",
        "            afm_output.value = f\"\"\"<div style=\"white-space: pre-wrap; font-family: monospace;\">{full_response}</div>\"\"\"\n",
        "            \n",
        "    except Exception as e:\n",
        "        error_msg = f\"Error with AFM-4.5B-Preview: {str(e)}\"\n",
        "        afm_output.value = f\"\"\"<div style=\"color: red;\">{error_msg}</div>\"\"\"\n",
        "        full_response = error_msg\n",
        "    \n",
        "    # Now get DeepSeek-R1's evaluation\n",
        "    display(Markdown(\"### DeepSeek-R1's Opinion\"))\n",
        "    \n",
        "    # Create output for DeepSeek\n",
        "    deepseek_output = widgets.HTML(value=\"<div>Evaluating response quality...</div>\")\n",
        "    display(deepseek_output)\n",
        "    \n",
        "    try:\n",
        "        # Create evaluation prompt\n",
        "        evaluation_prompt = f\"\"\"Please provide a brief evaluation of the following answer to the question. \n",
        "Focus only on the answer quality, accuracy, and completeness. Be concise.\n",
        "\n",
        "Question: {question}\n",
        "\n",
        "Answer: {full_response}\n",
        "\n",
        "Your brief evaluation (2-3 sentences):\"\"\"\n",
        "        \n",
        "        # Get DeepSeek evaluation\n",
        "        deepseek_response = client.chat.completions.create(\n",
        "            model=\"deepseek-ai/DeepSeek-R1\",\n",
        "            messages=[{\"role\": \"user\", \"content\": evaluation_prompt}],\n",
        "            max_tokens=2048,\n",
        "            temperature=0.3,\n",
        "        )\n",
        "        \n",
        "        deepseek_evaluation = deepseek_response.choices[0].message.content\n",
        "        deepseek_output.value = f\"\"\"<div style=\"background-color: #f0f0f0; padding: 10px; border-left: 4px solid #007bff;\">{deepseek_evaluation}</div>\"\"\"\n",
        "        \n",
        "    except Exception as e:\n",
        "        deepseek_output.value = f\"\"\"<div style=\"color: red;\">Error getting evaluation: {str(e)}</div>\"\"\"\n",
        "    \n",
        "    # Return the AFM response for further use\n",
        "    return full_response\n",
        "\n",
        "def query_afm(prompt, max_tokens=1024, temperature=0.7):\n",
        "    \"\"\"\n",
        "    Query the AFM-4.5B-Preview model and get DeepSeek-R1's evaluation.\n",
        "    \n",
        "    Args:\n",
        "        prompt: The user's question or request\n",
        "        max_tokens: Maximum number of tokens to generate\n",
        "        temperature: Controls randomness (0.0-1.0)\n",
        "        \n",
        "    Returns:\n",
        "        The AFM model's response\n",
        "    \"\"\"\n",
        "    # Create a message list with the user's prompt\n",
        "    messages = [{\"role\": \"user\", \"content\": prompt}]\n",
        "    \n",
        "    # Use the shared function to process and display results\n",
        "    return stream_afm_response(messages, max_tokens, temperature)\n"
      ]
    },
    {
      "cell_type": "markdown",
      "metadata": {
        "vscode": {
          "languageId": "raw"
        }
      },
      "source": [
        "## 1. Knowledge Questions\n"
      ]
    },
    {
      "cell_type": "code",
      "execution_count": 4,
      "metadata": {},
      "outputs": [
        {
          "data": {
            "text/markdown": [
              "### Question\n",
              "Compare and contrast the First and Second Industrial Revolutions, analyzing their distinct technological innovations and socioeconomic impacts across different regions of the world."
            ],
            "text/plain": [
              "<IPython.core.display.Markdown object>"
            ]
          },
          "metadata": {},
          "output_type": "display_data"
        },
        {
          "data": {
            "text/markdown": [
              "### AFM-4.5B-Preview Response"
            ],
            "text/plain": [
              "<IPython.core.display.Markdown object>"
            ]
          },
          "metadata": {},
          "output_type": "display_data"
        },
        {
          "data": {
            "application/vnd.jupyter.widget-view+json": {
              "model_id": "7fddd8d1d9a64c948a488e144ea5eec5",
              "version_major": 2,
              "version_minor": 0
            },
            "text/plain": [
              "HTML(value='')"
            ]
          },
          "metadata": {},
          "output_type": "display_data"
        },
        {
          "data": {
            "text/markdown": [
              "### DeepSeek-R1's Opinion"
            ],
            "text/plain": [
              "<IPython.core.display.Markdown object>"
            ]
          },
          "metadata": {},
          "output_type": "display_data"
        },
        {
          "data": {
            "application/vnd.jupyter.widget-view+json": {
              "model_id": "aa22ce2b25ad45b381afb0b4610348e4",
              "version_major": 2,
              "version_minor": 0
            },
            "text/plain": [
              "HTML(value='<div>Evaluating response quality...</div>')"
            ]
          },
          "metadata": {},
          "output_type": "display_data"
        }
      ],
      "source": [
        "knowledge_questions = [\n",
        "    \"Compare and contrast the First and Second Industrial Revolutions, analyzing their distinct technological innovations and socioeconomic impacts across different regions of the world.\",\n",
        "    \"Explain the biochemical mechanisms of the Calvin cycle in C4 photosynthesis and how they differ from CAM photosynthesis, including the evolutionary advantages of each pathway.\",\n",
        "    \"Analyze the fundamental architectural differences between transformers and convolutional neural networks, and explain how these differences affect their performance across various NLP and computer vision tasks.\",\n",
        "    \"Describe the quantum mechanical principles behind nuclear magnetic resonance and how they enable structural determination of complex organic molecules.\"\n",
        "    # Add your own questions here\n",
        "]\n",
        "\n",
        "# Run the first knowledge question with streaming\n",
        "question = knowledge_questions[0]\n",
        "answer = query_afm(question)\n"
      ]
    },
    {
      "cell_type": "code",
      "execution_count": 5,
      "metadata": {},
      "outputs": [
        {
          "data": {
            "text/markdown": [
              "### Question\n",
              "Explain the biochemical mechanisms of the Calvin cycle in C4 photosynthesis and how they differ from CAM photosynthesis, including the evolutionary advantages of each pathway."
            ],
            "text/plain": [
              "<IPython.core.display.Markdown object>"
            ]
          },
          "metadata": {},
          "output_type": "display_data"
        },
        {
          "data": {
            "text/markdown": [
              "### AFM-4.5B-Preview Response"
            ],
            "text/plain": [
              "<IPython.core.display.Markdown object>"
            ]
          },
          "metadata": {},
          "output_type": "display_data"
        },
        {
          "data": {
            "application/vnd.jupyter.widget-view+json": {
              "model_id": "2f8a23be50ee4b2e91f9c629b4fbcc93",
              "version_major": 2,
              "version_minor": 0
            },
            "text/plain": [
              "HTML(value='')"
            ]
          },
          "metadata": {},
          "output_type": "display_data"
        },
        {
          "data": {
            "text/markdown": [
              "### DeepSeek-R1's Opinion"
            ],
            "text/plain": [
              "<IPython.core.display.Markdown object>"
            ]
          },
          "metadata": {},
          "output_type": "display_data"
        },
        {
          "data": {
            "application/vnd.jupyter.widget-view+json": {
              "model_id": "a8f9c8e1fd0146e9a4032fe952b57a0a",
              "version_major": 2,
              "version_minor": 0
            },
            "text/plain": [
              "HTML(value='<div>Evaluating response quality...</div>')"
            ]
          },
          "metadata": {},
          "output_type": "display_data"
        }
      ],
      "source": [
        "# Run the second knowledge question with streaming\n",
        "question = knowledge_questions[1]\n",
        "answer = query_afm(question)\n"
      ]
    },
    {
      "cell_type": "markdown",
      "metadata": {
        "vscode": {
          "languageId": "raw"
        }
      },
      "source": [
        "## 2. Creative Writing\n"
      ]
    },
    {
      "cell_type": "code",
      "execution_count": 12,
      "metadata": {},
      "outputs": [
        {
          "data": {
            "text/markdown": [
              "### Question\n",
              "Write a short story that begins at the end and moves backward in time, using the literary techniques of Jorge Luis Borges, incorporating themes of infinity, recursion, and paradox. The story should feature a librarian who discovers a book that predicts the manner of its reader's death. Write at least 1000 words."
            ],
            "text/plain": [
              "<IPython.core.display.Markdown object>"
            ]
          },
          "metadata": {},
          "output_type": "display_data"
        },
        {
          "data": {
            "text/markdown": [
              "### AFM-4.5B-Preview Response"
            ],
            "text/plain": [
              "<IPython.core.display.Markdown object>"
            ]
          },
          "metadata": {},
          "output_type": "display_data"
        },
        {
          "data": {
            "application/vnd.jupyter.widget-view+json": {
              "model_id": "93edb0c093a048ea93ce3c3146ffd953",
              "version_major": 2,
              "version_minor": 0
            },
            "text/plain": [
              "HTML(value='')"
            ]
          },
          "metadata": {},
          "output_type": "display_data"
        },
        {
          "data": {
            "text/markdown": [
              "### DeepSeek-R1's Opinion"
            ],
            "text/plain": [
              "<IPython.core.display.Markdown object>"
            ]
          },
          "metadata": {},
          "output_type": "display_data"
        },
        {
          "data": {
            "application/vnd.jupyter.widget-view+json": {
              "model_id": "833fccf3a79b451c828704af1acb3b54",
              "version_major": 2,
              "version_minor": 0
            },
            "text/plain": [
              "HTML(value='<div>Evaluating response quality...</div>')"
            ]
          },
          "metadata": {},
          "output_type": "display_data"
        }
      ],
      "source": [
        "creative_writing_prompts = [\n",
        "    \"Write a short story that begins at the end and moves backward in time, using the literary techniques of Jorge Luis Borges, incorporating themes of infinity, recursion, and paradox. The story should feature a librarian who discovers a book that predicts the manner of its reader's death. Write at least 1000 words.\",\n",
        "    \"Write a narrative that seamlessly integrates three distinct literary styles: Victorian gothic, cyberpunk, and magical realism. The narrative should center around a character who discovers they are a fictional character aware of their own narrative constraints.\",\n",
        "    \"Compose a sestina (a complex poetic form with six stanzas of six lines each, followed by a tercet, using the same six words at the end of each line in a specific pattern) about the nature of consciousness and artificial intelligence.\",\n",
        "    \"Write a dialogue between two entities: one exists outside of time experiencing all moments simultaneously, while the other experiences time linearly but can remember multiple possible futures. Their conversation should explore the philosophical implications of determinism versus free will.\",\n",
        "    \"Create a scene written in the second-person perspective that employs synesthesia (the blending of sensory experiences) throughout, where colors have sounds, words have tastes, and emotions have textures. The scene should take place in a setting where reality is gradually unraveling.\",\n",
        "]\n",
        "\n",
        "# Run the first creative writing prompt with streaming\n",
        "prompt = creative_writing_prompts[0]\n",
        "response = query_afm(prompt, max_tokens=4096, temperature=0.8)  # Using slightly higher temperature for creativity\n"
      ]
    },
    {
      "cell_type": "code",
      "execution_count": 13,
      "metadata": {},
      "outputs": [
        {
          "data": {
            "text/markdown": [
              "### Question\n",
              "Write a narrative that seamlessly integrates three distinct literary styles: Victorian gothic, cyberpunk, and magical realism. The narrative should center around a character who discovers they are a fictional character aware of their own narrative constraints."
            ],
            "text/plain": [
              "<IPython.core.display.Markdown object>"
            ]
          },
          "metadata": {},
          "output_type": "display_data"
        },
        {
          "data": {
            "text/markdown": [
              "### AFM-4.5B-Preview Response"
            ],
            "text/plain": [
              "<IPython.core.display.Markdown object>"
            ]
          },
          "metadata": {},
          "output_type": "display_data"
        },
        {
          "data": {
            "application/vnd.jupyter.widget-view+json": {
              "model_id": "4082cf30e39244b4a610e14eca792cd3",
              "version_major": 2,
              "version_minor": 0
            },
            "text/plain": [
              "HTML(value='')"
            ]
          },
          "metadata": {},
          "output_type": "display_data"
        },
        {
          "data": {
            "text/markdown": [
              "### DeepSeek-R1's Opinion"
            ],
            "text/plain": [
              "<IPython.core.display.Markdown object>"
            ]
          },
          "metadata": {},
          "output_type": "display_data"
        },
        {
          "data": {
            "application/vnd.jupyter.widget-view+json": {
              "model_id": "c51089e2aa8e471a90e7a0ed9270c706",
              "version_major": 2,
              "version_minor": 0
            },
            "text/plain": [
              "HTML(value='<div>Evaluating response quality...</div>')"
            ]
          },
          "metadata": {},
          "output_type": "display_data"
        }
      ],
      "source": [
        "# Run the second creative writing prompt with streaming\n",
        "prompt = creative_writing_prompts[1]\n",
        "response = query_afm(prompt, temperature=0.8)\n"
      ]
    },
    {
      "cell_type": "markdown",
      "metadata": {
        "vscode": {
          "languageId": "raw"
        }
      },
      "source": [
        "## 3. Domain-Specific Applications\n"
      ]
    },
    {
      "cell_type": "markdown",
      "metadata": {
        "vscode": {
          "languageId": "raw"
        }
      },
      "source": [
        "### 3.1 Healthcare\n"
      ]
    },
    {
      "cell_type": "code",
      "execution_count": 14,
      "metadata": {},
      "outputs": [
        {
          "data": {
            "text/markdown": [
              "### Question\n",
              "Compare and contrast the mechanisms of action between CRISPR-Cas9 and zinc finger nucleases for gene editing, including their specificity, efficiency, and potential off-target effects in therapeutic applications for monogenic disorders."
            ],
            "text/plain": [
              "<IPython.core.display.Markdown object>"
            ]
          },
          "metadata": {},
          "output_type": "display_data"
        },
        {
          "data": {
            "text/markdown": [
              "### AFM-4.5B-Preview Response"
            ],
            "text/plain": [
              "<IPython.core.display.Markdown object>"
            ]
          },
          "metadata": {},
          "output_type": "display_data"
        },
        {
          "data": {
            "application/vnd.jupyter.widget-view+json": {
              "model_id": "3ecb897ee1424f3bbff9876fd5a1aad7",
              "version_major": 2,
              "version_minor": 0
            },
            "text/plain": [
              "HTML(value='')"
            ]
          },
          "metadata": {},
          "output_type": "display_data"
        },
        {
          "data": {
            "text/markdown": [
              "### DeepSeek-R1's Opinion"
            ],
            "text/plain": [
              "<IPython.core.display.Markdown object>"
            ]
          },
          "metadata": {},
          "output_type": "display_data"
        },
        {
          "data": {
            "application/vnd.jupyter.widget-view+json": {
              "model_id": "d0adca24c8a743d3b552dd461193fed0",
              "version_major": 2,
              "version_minor": 0
            },
            "text/plain": [
              "HTML(value='<div>Evaluating response quality...</div>')"
            ]
          },
          "metadata": {},
          "output_type": "display_data"
        }
      ],
      "source": [
        "healthcare_questions = [\n",
        "    \"Compare and contrast the mechanisms of action between CRISPR-Cas9 and zinc finger nucleases for gene editing, including their specificity, efficiency, and potential off-target effects in therapeutic applications for monogenic disorders.\",\n",
        "    \"Analyze the immunopathological mechanisms underlying cytokine release syndrome in CAR-T cell therapy and propose pharmacological interventions to mitigate this adverse effect while preserving therapeutic efficacy.\",\n",
        "    \"Evaluate the potential applications of quantum computing in protein folding prediction and drug discovery, addressing both the theoretical advantages over classical computing methods and the practical challenges of implementation.\"\n",
        "]\n",
        "\n",
        "# Run a healthcare question with streaming\n",
        "question = healthcare_questions[0]\n",
        "answer = query_afm(question)\n"
      ]
    },
    {
      "cell_type": "markdown",
      "metadata": {
        "vscode": {
          "languageId": "raw"
        }
      },
      "source": [
        "### 5.2 Finance\n"
      ]
    },
    {
      "cell_type": "code",
      "execution_count": 16,
      "metadata": {},
      "outputs": [
        {
          "data": {
            "text/markdown": [
              "### Question\n",
              "Evaluate the effectiveness of the Black-Scholes-Merton model in pricing exotic options during periods of extreme market volatility, and propose modifications that incorporate jump-diffusion processes and stochastic volatility."
            ],
            "text/plain": [
              "<IPython.core.display.Markdown object>"
            ]
          },
          "metadata": {},
          "output_type": "display_data"
        },
        {
          "data": {
            "text/markdown": [
              "### AFM-4.5B-Preview Response"
            ],
            "text/plain": [
              "<IPython.core.display.Markdown object>"
            ]
          },
          "metadata": {},
          "output_type": "display_data"
        },
        {
          "data": {
            "application/vnd.jupyter.widget-view+json": {
              "model_id": "8ed3d1544a1b424dafcd4f89b6585a09",
              "version_major": 2,
              "version_minor": 0
            },
            "text/plain": [
              "HTML(value='')"
            ]
          },
          "metadata": {},
          "output_type": "display_data"
        },
        {
          "data": {
            "text/markdown": [
              "### DeepSeek-R1's Opinion"
            ],
            "text/plain": [
              "<IPython.core.display.Markdown object>"
            ]
          },
          "metadata": {},
          "output_type": "display_data"
        },
        {
          "data": {
            "application/vnd.jupyter.widget-view+json": {
              "model_id": "deefb6b40cf545f9b7de42a1cb036ce5",
              "version_major": 2,
              "version_minor": 0
            },
            "text/plain": [
              "HTML(value='<div>Evaluating response quality...</div>')"
            ]
          },
          "metadata": {},
          "output_type": "display_data"
        }
      ],
      "source": [
        "finance_questions = [\n",
        "    \"Evaluate the effectiveness of the Black-Scholes-Merton model in pricing exotic options during periods of extreme market volatility, and propose modifications that incorporate jump-diffusion processes and stochastic volatility.\",\n",
        "    \"Compare and contrast the capital structure theories of Modigliani-Miller, Trade-off Theory, and Pecking Order Theory, analyzing their empirical validity across different industry sectors and macroeconomic environments.\",\n",
        "    \"Analyze the implications of negative interest rate policies on banking system stability, wealth distribution, and currency valuations in the context of secular stagnation theory.\"\n",
        "]\n",
        "\n",
        "# Run a finance question with streaming\n",
        "question = finance_questions[0]\n",
        "answer = query_afm(question)\n"
      ]
    },
    {
      "cell_type": "markdown",
      "metadata": {
        "vscode": {
          "languageId": "raw"
        }
      },
      "source": [
        "### 5.3 Technology\n"
      ]
    },
    {
      "cell_type": "code",
      "execution_count": 19,
      "metadata": {},
      "outputs": [
        {
          "data": {
            "text/markdown": [
              "### Question\n",
              "Analyze the architectural trade-offs between transformer-based language models and recurrent neural networks with attention mechanisms for real-time natural language processing tasks on resource-constrained edge devices."
            ],
            "text/plain": [
              "<IPython.core.display.Markdown object>"
            ]
          },
          "metadata": {},
          "output_type": "display_data"
        },
        {
          "data": {
            "text/markdown": [
              "### AFM-4.5B-Preview Response"
            ],
            "text/plain": [
              "<IPython.core.display.Markdown object>"
            ]
          },
          "metadata": {},
          "output_type": "display_data"
        },
        {
          "data": {
            "application/vnd.jupyter.widget-view+json": {
              "model_id": "32e990bd6978412ba12f2fa7e4661d7f",
              "version_major": 2,
              "version_minor": 0
            },
            "text/plain": [
              "HTML(value='')"
            ]
          },
          "metadata": {},
          "output_type": "display_data"
        },
        {
          "data": {
            "text/markdown": [
              "### DeepSeek-R1's Opinion"
            ],
            "text/plain": [
              "<IPython.core.display.Markdown object>"
            ]
          },
          "metadata": {},
          "output_type": "display_data"
        },
        {
          "data": {
            "application/vnd.jupyter.widget-view+json": {
              "model_id": "b64c134c191d4ee7b8a85dbdc256404a",
              "version_major": 2,
              "version_minor": 0
            },
            "text/plain": [
              "HTML(value='<div>Evaluating response quality...</div>')"
            ]
          },
          "metadata": {},
          "output_type": "display_data"
        }
      ],
      "source": [
        "tech_questions = [\n",
        "    \"Analyze the architectural trade-offs between transformer-based language models and recurrent neural networks with attention mechanisms for real-time natural language processing tasks on resource-constrained edge devices.\",\n",
        "    \"Evaluate the theoretical and practical limitations of current formal verification methods for ensuring safety properties in autonomous systems that incorporate deep reinforcement learning, and propose novel approaches to address these challenges.\"\n",
        "]\n",
        "\n",
        "# Run a technology question with streaming\n",
        "question = tech_questions[0]\n",
        "answer = query_afm(question)\n"
      ]
    },
    {
      "cell_type": "markdown",
      "metadata": {
        "vscode": {
          "languageId": "raw"
        }
      },
      "source": [
        "### 5.4 Education\n"
      ]
    },
    {
      "cell_type": "code",
      "execution_count": 20,
      "metadata": {},
      "outputs": [
        {
          "data": {
            "text/markdown": [
              "### Question\n",
              "Critically evaluate the neuroscientific evidence supporting spaced repetition and interleaving in knowledge retention, and design an optimal curriculum structure for teaching complex abstract mathematical concepts that incorporates these findings while accounting for individual cognitive differences."
            ],
            "text/plain": [
              "<IPython.core.display.Markdown object>"
            ]
          },
          "metadata": {},
          "output_type": "display_data"
        },
        {
          "data": {
            "text/markdown": [
              "### AFM-4.5B-Preview Response"
            ],
            "text/plain": [
              "<IPython.core.display.Markdown object>"
            ]
          },
          "metadata": {},
          "output_type": "display_data"
        },
        {
          "data": {
            "application/vnd.jupyter.widget-view+json": {
              "model_id": "814e0d2588a541aab8f53e70e1cac093",
              "version_major": 2,
              "version_minor": 0
            },
            "text/plain": [
              "HTML(value='')"
            ]
          },
          "metadata": {},
          "output_type": "display_data"
        },
        {
          "data": {
            "text/markdown": [
              "### DeepSeek-R1's Opinion"
            ],
            "text/plain": [
              "<IPython.core.display.Markdown object>"
            ]
          },
          "metadata": {},
          "output_type": "display_data"
        },
        {
          "data": {
            "application/vnd.jupyter.widget-view+json": {
              "model_id": "2c84e25098b74c84bac6b93d432cafe6",
              "version_major": 2,
              "version_minor": 0
            },
            "text/plain": [
              "HTML(value='<div>Evaluating response quality...</div>')"
            ]
          },
          "metadata": {},
          "output_type": "display_data"
        }
      ],
      "source": [
        "education_questions = [\n",
        "    \"Critically evaluate the neuroscientific evidence supporting spaced repetition and interleaving in knowledge retention, and design an optimal curriculum structure for teaching complex abstract mathematical concepts that incorporates these findings while accounting for individual cognitive differences.\",\n",
        "    \"Analyze the methodological limitations in educational research on personalized learning environments, particularly regarding the confounding variables that affect the measurement of cognitive outcomes, and propose a research design that addresses these limitations.\",\n",
        "    \"Develop a theoretical framework that integrates Vygotsky's sociocultural theory, cognitive load theory, and recent advances in educational neuroscience to optimize knowledge transfer in collaborative learning environments for complex problem-solving tasks.\"\n",
        "]\n",
        "\n",
        "# Run an education question with streaming\n",
        "question = education_questions[0]\n",
        "answer = query_afm(question)\n"
      ]
    },
    {
      "cell_type": "markdown",
      "metadata": {
        "vscode": {
          "languageId": "raw"
        }
      },
      "source": [
        "## 6. Multi-turn Conversation Example\n"
      ]
    },
    {
      "cell_type": "code",
      "execution_count": 21,
      "metadata": {},
      "outputs": [
        {
          "data": {
            "text/markdown": [
              "### Question\n",
              "Explain the implications of the holographic principle for our understanding of quantum gravity, particularly regarding the black hole information paradox."
            ],
            "text/plain": [
              "<IPython.core.display.Markdown object>"
            ]
          },
          "metadata": {},
          "output_type": "display_data"
        },
        {
          "data": {
            "text/markdown": [
              "### AFM-4.5B-Preview Response"
            ],
            "text/plain": [
              "<IPython.core.display.Markdown object>"
            ]
          },
          "metadata": {},
          "output_type": "display_data"
        },
        {
          "data": {
            "application/vnd.jupyter.widget-view+json": {
              "model_id": "b87d068f1bc94b37b39223792c8566d9",
              "version_major": 2,
              "version_minor": 0
            },
            "text/plain": [
              "HTML(value='')"
            ]
          },
          "metadata": {},
          "output_type": "display_data"
        },
        {
          "data": {
            "text/markdown": [
              "### DeepSeek-R1's Opinion"
            ],
            "text/plain": [
              "<IPython.core.display.Markdown object>"
            ]
          },
          "metadata": {},
          "output_type": "display_data"
        },
        {
          "data": {
            "application/vnd.jupyter.widget-view+json": {
              "model_id": "49db73dcf94141a9b47eae6a874fded0",
              "version_major": 2,
              "version_minor": 0
            },
            "text/plain": [
              "HTML(value='<div>Evaluating response quality...</div>')"
            ]
          },
          "metadata": {},
          "output_type": "display_data"
        }
      ],
      "source": [
        "def multi_turn_conversation(messages):\n",
        "    \"\"\"\n",
        "    Conduct a multi-turn conversation with AFM-4.5B-Preview and get DeepSeek-R1's evaluation.\n",
        "    \n",
        "    Args:\n",
        "        messages: List of message dictionaries with 'role' and 'content'\n",
        "        \n",
        "    Returns:\n",
        "        The AFM model's response\n",
        "    \"\"\"\n",
        "    # Display conversation context\n",
        "    if len(messages) > 1:\n",
        "        display(Markdown(\"### Conversation Context\"))\n",
        "        for i, msg in enumerate(messages[:-1]):\n",
        "            if msg[\"role\"] == \"user\":\n",
        "                display(Markdown(f\"**User:** {msg['content']}\"))\n",
        "            else:\n",
        "                # Truncate long assistant responses\n",
        "                content = msg['content']\n",
        "                if len(content) > 100:\n",
        "                    content = content[:100] + \"...\"\n",
        "                display(Markdown(f\"**Assistant:** {content}\"))\n",
        "        display(Markdown(\"---\"))\n",
        "    \n",
        "    # Use the shared function to process and display results\n",
        "    return stream_afm_response(messages)\n",
        "\n",
        "# Start a conversation about advanced theoretical physics\n",
        "conversation = [\n",
        "    {\"role\": \"user\", \"content\": \"Explain the implications of the holographic principle for our understanding of quantum gravity, particularly regarding the black hole information paradox.\"}\n",
        "]\n",
        "\n",
        "# Get the first response\n",
        "response = multi_turn_conversation(conversation)\n",
        "\n",
        "# Add the response to the conversation\n",
        "conversation.append({\"role\": \"assistant\", \"content\": response})\n"
      ]
    },
    {
      "cell_type": "code",
      "execution_count": 22,
      "metadata": {},
      "outputs": [
        {
          "data": {
            "text/markdown": [
              "### Conversation Context"
            ],
            "text/plain": [
              "<IPython.core.display.Markdown object>"
            ]
          },
          "metadata": {},
          "output_type": "display_data"
        },
        {
          "data": {
            "text/markdown": [
              "**User:** Explain the implications of the holographic principle for our understanding of quantum gravity, particularly regarding the black hole information paradox."
            ],
            "text/plain": [
              "<IPython.core.display.Markdown object>"
            ]
          },
          "metadata": {},
          "output_type": "display_data"
        },
        {
          "data": {
            "text/markdown": [
              "**Assistant:** The holographic principle suggests that the information contained within a volume of space can be en..."
            ],
            "text/plain": [
              "<IPython.core.display.Markdown object>"
            ]
          },
          "metadata": {},
          "output_type": "display_data"
        },
        {
          "data": {
            "text/markdown": [
              "---"
            ],
            "text/plain": [
              "<IPython.core.display.Markdown object>"
            ]
          },
          "metadata": {},
          "output_type": "display_data"
        },
        {
          "data": {
            "text/markdown": [
              "### Question\n",
              "What are its limitations in addressing quantum entanglement across the event horizon?"
            ],
            "text/plain": [
              "<IPython.core.display.Markdown object>"
            ]
          },
          "metadata": {},
          "output_type": "display_data"
        },
        {
          "data": {
            "text/markdown": [
              "### AFM-4.5B-Preview Response"
            ],
            "text/plain": [
              "<IPython.core.display.Markdown object>"
            ]
          },
          "metadata": {},
          "output_type": "display_data"
        },
        {
          "data": {
            "application/vnd.jupyter.widget-view+json": {
              "model_id": "37835ce1c63541c6b6023c9d92e787f0",
              "version_major": 2,
              "version_minor": 0
            },
            "text/plain": [
              "HTML(value='')"
            ]
          },
          "metadata": {},
          "output_type": "display_data"
        },
        {
          "data": {
            "text/markdown": [
              "### DeepSeek-R1's Opinion"
            ],
            "text/plain": [
              "<IPython.core.display.Markdown object>"
            ]
          },
          "metadata": {},
          "output_type": "display_data"
        },
        {
          "data": {
            "application/vnd.jupyter.widget-view+json": {
              "model_id": "01e5035ef00a4cbfad56cd7fd9d38a9b",
              "version_major": 2,
              "version_minor": 0
            },
            "text/plain": [
              "HTML(value='<div>Evaluating response quality...</div>')"
            ]
          },
          "metadata": {},
          "output_type": "display_data"
        }
      ],
      "source": [
        "# Continue the conversation with a follow-up question\n",
        "conversation.append({\"role\": \"user\", \"content\": \"What are its limitations in addressing quantum entanglement across the event horizon?\"})\n",
        "\n",
        "# Get the second response\n",
        "response = multi_turn_conversation(conversation)\n",
        "\n",
        "# Add the response to the conversation\n",
        "conversation.append({\"role\": \"assistant\", \"content\": response})\n"
      ]
    },
    {
      "cell_type": "code",
      "execution_count": 23,
      "metadata": {},
      "outputs": [
        {
          "data": {
            "text/markdown": [
              "### Conversation Context"
            ],
            "text/plain": [
              "<IPython.core.display.Markdown object>"
            ]
          },
          "metadata": {},
          "output_type": "display_data"
        },
        {
          "data": {
            "text/markdown": [
              "**User:** Explain the implications of the holographic principle for our understanding of quantum gravity, particularly regarding the black hole information paradox."
            ],
            "text/plain": [
              "<IPython.core.display.Markdown object>"
            ]
          },
          "metadata": {},
          "output_type": "display_data"
        },
        {
          "data": {
            "text/markdown": [
              "**Assistant:** The holographic principle suggests that the information contained within a volume of space can be en..."
            ],
            "text/plain": [
              "<IPython.core.display.Markdown object>"
            ]
          },
          "metadata": {},
          "output_type": "display_data"
        },
        {
          "data": {
            "text/markdown": [
              "**User:** What are its limitations in addressing quantum entanglement across the event horizon?"
            ],
            "text/plain": [
              "<IPython.core.display.Markdown object>"
            ]
          },
          "metadata": {},
          "output_type": "display_data"
        },
        {
          "data": {
            "text/markdown": [
              "**Assistant:** The holographic principle, while offering valuable insights into quantum gravity, faces limitations ..."
            ],
            "text/plain": [
              "<IPython.core.display.Markdown object>"
            ]
          },
          "metadata": {},
          "output_type": "display_data"
        },
        {
          "data": {
            "text/markdown": [
              "---"
            ],
            "text/plain": [
              "<IPython.core.display.Markdown object>"
            ]
          },
          "metadata": {},
          "output_type": "display_data"
        },
        {
          "data": {
            "text/markdown": [
              "### Question\n",
              "Given the tensions between general relativity and quantum mechanics, how might the holographic principle and the firewall paradox lead to a reformulation of our understanding of spacetime as emergent rather than fundamental?"
            ],
            "text/plain": [
              "<IPython.core.display.Markdown object>"
            ]
          },
          "metadata": {},
          "output_type": "display_data"
        },
        {
          "data": {
            "text/markdown": [
              "### AFM-4.5B-Preview Response"
            ],
            "text/plain": [
              "<IPython.core.display.Markdown object>"
            ]
          },
          "metadata": {},
          "output_type": "display_data"
        },
        {
          "data": {
            "application/vnd.jupyter.widget-view+json": {
              "model_id": "25783bc745004f358a8c82b777c007c3",
              "version_major": 2,
              "version_minor": 0
            },
            "text/plain": [
              "HTML(value='')"
            ]
          },
          "metadata": {},
          "output_type": "display_data"
        },
        {
          "data": {
            "text/markdown": [
              "### DeepSeek-R1's Opinion"
            ],
            "text/plain": [
              "<IPython.core.display.Markdown object>"
            ]
          },
          "metadata": {},
          "output_type": "display_data"
        },
        {
          "data": {
            "application/vnd.jupyter.widget-view+json": {
              "model_id": "312f1f36e0164e2e8bea0d8f705b7196",
              "version_major": 2,
              "version_minor": 0
            },
            "text/plain": [
              "HTML(value='<div>Evaluating response quality...</div>')"
            ]
          },
          "metadata": {},
          "output_type": "display_data"
        }
      ],
      "source": [
        "# Ask a third question that builds on the conversation\n",
        "conversation.append({\"role\": \"user\", \"content\": \"Given the tensions between general relativity and quantum mechanics, how might the holographic principle and the firewall paradox lead to a reformulation of our understanding of spacetime as emergent rather than fundamental?\"})\n",
        "\n",
        "# Get the third response\n",
        "response = multi_turn_conversation(conversation)\n"
      ]
    },
    {
      "cell_type": "markdown",
      "metadata": {
        "vscode": {
          "languageId": "raw"
        }
      },
      "source": [
        "## 7. Conclusion\n"
      ]
    },
    {
      "cell_type": "markdown",
      "metadata": {
        "vscode": {
          "languageId": "raw"
        }
      },
      "source": [
        "This notebook demonstrates the capabilities of Arcee AI's AFM-4.5B-Preview model across various domains and tasks, with each response evaluated by DeepSeek-R1 for quality assessment.\n",
        "\n",
        "\n",
        "The dual-model approach of using AFM-4.5B-Preview for responses and DeepSeek-R1 for evaluation provides both answers and quality assessment, offering insights into the strengths and limitations of the AFM model across different domains and complexity levels.\n"
      ]
    },
    {
      "cell_type": "raw",
      "metadata": {},
      "source": []
    }
  ],
  "metadata": {
    "kernelspec": {
      "display_name": "env",
      "language": "python",
      "name": "python3"
    },
    "language_info": {
      "codemirror_mode": {
        "name": "ipython",
        "version": 3
      },
      "file_extension": ".py",
      "mimetype": "text/x-python",
      "name": "python",
      "nbconvert_exporter": "python",
      "pygments_lexer": "ipython3",
      "version": "3.12.4"
    }
  },
  "nbformat": 4,
  "nbformat_minor": 2
}
