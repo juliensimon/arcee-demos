{
  "cells": [
    {
      "cell_type": "code",
      "execution_count": null,
      "metadata": {},
      "outputs": [],
      "source": [
        "%%sh\n",
        "pip -q install together"
      ]
    },
    {
      "cell_type": "code",
      "execution_count": null,
      "metadata": {},
      "outputs": [],
      "source": [
        "import base64\n",
        "import os\n",
        "from together import Together\n",
        "from IPython.display import Image\n",
        "\n",
        "# Together.ai model identifier for Arcee AI Spotlight\n",
        "model = \"arcee_ai/arcee-spotlight\"\n",
        "\n",
        "# Get Together.ai API key from environment variable\n",
        "TOGETHER_API_KEY = os.getenv(\"TOGETHER_API_KEY\")\n",
        "if not TOGETHER_API_KEY:\n",
        "    raise ValueError(\"Please set the TOGETHER_API_KEY environment variable\")\n",
        "\n",
        "client = Together(api_key=TOGETHER_API_KEY)"
      ]
    },
    {
      "cell_type": "code",
      "execution_count": null,
      "metadata": {},
      "outputs": [],
      "source": [
        "from IPython.display import Markdown, clear_output, display\n",
        "\n",
        "def print_streaming_response(response):\n",
        "    num_tokens = 0\n",
        "    content = \"\"\n",
        "    for chunk in response:\n",
        "        if hasattr(chunk, 'choices') and len(chunk.choices) > 0:\n",
        "            if hasattr(chunk.choices[0], 'delta') and hasattr(chunk.choices[0].delta, 'content'):\n",
        "                delta_content = chunk.choices[0].delta.content\n",
        "                if delta_content:\n",
        "                    num_tokens += 1\n",
        "                    content += delta_content\n",
        "                    clear_output(wait=True)\n",
        "                    display(Markdown(content))\n",
        "            elif hasattr(chunk.choices[0], 'message') and hasattr(chunk.choices[0].message, 'content'):\n",
        "                msg_content = chunk.choices[0].message.content\n",
        "                if msg_content:\n",
        "                    num_tokens += 1\n",
        "                    content += msg_content\n",
        "                    clear_output(wait=True)\n",
        "                    display(Markdown(content))\n",
        "\n",
        "    print(f\"\\n\\nNumber of tokens: {num_tokens}\")\n"
      ]
    },
    {
      "cell_type": "code",
      "execution_count": null,
      "metadata": {},
      "outputs": [],
      "source": [
        "# Define the URL and text for our examples\n",
        "url = \"https://img.lemde.fr/2019/07/14/0/0/4674/2832/556/0/75/0/b095b7e_be31f6a29f404568a2e861c48fc4a078-be31f6a29f404568a2e861c48fc4a078-0.jpg\"\n",
        "text = \"Where was this picture taken?\"\n",
        "\n",
        "# display the image\n",
        "display(Image(url))"
      ]
    },
    {
      "cell_type": "code",
      "execution_count": null,
      "metadata": {},
      "outputs": [],
      "source": [
        "response = client.chat.completions.create(\n",
        "    model=model,\n",
        "    messages=[\n",
        "        {\n",
        "            \"role\": \"user\",\n",
        "            \"content\": [\n",
        "                {\"type\": \"text\", \"text\": text},\n",
        "                {\"type\": \"image_url\", \"image_url\": {\"url\": url}},\n",
        "            ],\n",
        "        }\n",
        "    ],\n",
        "    temperature=0.9,\n",
        "    stream=True,\n",
        "    max_tokens=2048,\n",
        ")\n",
        "\n",
        "print_streaming_response(response)"
      ]
    },
    {
      "cell_type": "code",
      "execution_count": null,
      "metadata": {},
      "outputs": [],
      "source": [
        "text = \"Write a short and precise caption for this picture\"\n",
        "\n",
        "response = client.chat.completions.create(\n",
        "    model=model,\n",
        "    messages=[\n",
        "        {\n",
        "            \"role\": \"user\",\n",
        "            \"content\": [\n",
        "                {\"type\": \"text\", \"text\": text},\n",
        "                {\"type\": \"image_url\", \"image_url\": {\"url\": url}},\n",
        "            ],\n",
        "        }\n",
        "    ],\n",
        "    temperature=0.9,\n",
        "    stream=True,\n",
        "    max_tokens=2048,\n",
        ")\n",
        "\n",
        "print_streaming_response(response)\n"
      ]
    },
    {
      "cell_type": "code",
      "execution_count": null,
      "metadata": {},
      "outputs": [],
      "source": [
        "text = \"\"\"Generate JSON metadata for this picture:\n",
        "- Country\n",
        "- City\n",
        "- Landmarks\n",
        "- Short description\n",
        "- Detailed description\n",
        "- Themes\n",
        "- Keywords\n",
        "\"\"\"\n",
        "\n",
        "response = client.chat.completions.create(\n",
        "    model=model,\n",
        "    messages=[\n",
        "        {\n",
        "            \"role\": \"user\",\n",
        "            \"content\": [\n",
        "                {\"type\": \"text\", \"text\": text},\n",
        "                {\"type\": \"image_url\", \"image_url\": {\"url\": url}},\n",
        "            ],\n",
        "        }\n",
        "    ],\n",
        "    temperature=0.9,\n",
        "    stream=True,\n",
        "    max_tokens=2048,\n",
        ")\n",
        "\n",
        "print_streaming_response(response)\n"
      ]
    },
    {
      "cell_type": "code",
      "execution_count": null,
      "metadata": {},
      "outputs": [],
      "source": [
        "def load_image_as_base64(file_path):\n",
        "    # Load the image as a base64 string\n",
        "    with open(file_path, \"rb\") as image_file:\n",
        "        base64_string = base64.b64encode(image_file.read()).decode(\"utf-8\")\n",
        "    return base64_string\n"
      ]
    },
    {
      "cell_type": "code",
      "execution_count": null,
      "metadata": {},
      "outputs": [],
      "source": [
        "image_file = \"july14th.jpg\"\n",
        "image_base64 = load_image_as_base64(image_file)\n",
        "\n",
        "response = client.chat.completions.create(\n",
        "    model=model,\n",
        "    messages=[\n",
        "        {\n",
        "            \"role\": \"user\",\n",
        "            \"content\": [\n",
        "                {\"type\": \"text\", \"text\": text},\n",
        "                {\n",
        "                    \"type\": \"image_url\",\n",
        "                    \"image_url\": {\"url\": f\"data:image/jpeg;base64,{image_base64}\"},\n",
        "                },\n",
        "            ],\n",
        "        }\n",
        "    ],\n",
        "    temperature=0.9,\n",
        "    stream=True,\n",
        "    max_tokens=2048,\n",
        ")\n",
        "\n",
        "print_streaming_response(response)\n"
      ]
    },
    {
      "cell_type": "code",
      "execution_count": null,
      "metadata": {},
      "outputs": [],
      "source": [
        "image1 = \"july14th.jpg\"\n",
        "image2 = \"italy.png\"\n",
        "\n",
        "# Load both images as base64\n",
        "july14th_base64 = load_image_as_base64(image1)\n",
        "july14th_2_base64 = load_image_as_base64(image2)\n",
        "\n",
        "# Display both images\n",
        "display(Image(image1))\n",
        "print(\"\\n\")\n",
        "display(Image(image2))"
      ]
    },
    {
      "cell_type": "code",
      "execution_count": null,
      "metadata": {},
      "outputs": [],
      "source": [
        "text = \"\"\"Compare these two images of the French Bastille Day parade:\n",
        "- What similarities do you see?\n",
        "- What differences do you notice?\n",
        "- Are they from the same country or not\n",
        "- What specific details support your conclusion?\"\"\"\n",
        "\n",
        "# Create a message with both images\n",
        "response = client.chat.completions.create(\n",
        "    model=model,\n",
        "    messages=[\n",
        "        {\n",
        "            \"role\": \"user\",\n",
        "            \"content\": [\n",
        "                {\"type\": \"text\", \"text\": text},\n",
        "                {\n",
        "                    \"type\": \"image_url\",\n",
        "                    \"image_url\": {\"url\": f\"data:image/jpeg;base64,{july14th_base64}\"},\n",
        "                },\n",
        "                {\n",
        "                    \"type\": \"image_url\",\n",
        "                    \"image_url\": {\"url\": f\"data:image/jpeg;base64,{july14th_2_base64}\"},\n",
        "                }\n",
        "            ],\n",
        "        }\n",
        "    ],\n",
        "    temperature=0.9,\n",
        "    stream=True,\n",
        "    max_tokens=2048,\n",
        ")\n",
        "\n",
        "print_streaming_response(response)\n"
      ]
    },
    {
      "cell_type": "code",
      "execution_count": null,
      "metadata": {},
      "outputs": [],
      "source": [
        "\n"
      ]
    }
  ],
  "metadata": {
    "kernelspec": {
      "display_name": "env",
      "language": "python",
      "name": "python3"
    },
    "language_info": {
      "codemirror_mode": {
        "name": "ipython",
        "version": 3
      },
      "file_extension": ".py",
      "mimetype": "text/x-python",
      "name": "python",
      "nbconvert_exporter": "python",
      "pygments_lexer": "ipython3",
      "version": "3.12.4"
    }
  },
  "nbformat": 4,
  "nbformat_minor": 2
}
